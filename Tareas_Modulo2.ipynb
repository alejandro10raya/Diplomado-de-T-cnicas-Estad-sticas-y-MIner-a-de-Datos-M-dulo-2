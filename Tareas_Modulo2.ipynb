{
  "nbformat": 4,
  "nbformat_minor": 0,
  "metadata": {
    "colab": {
      "provenance": [],
      "toc_visible": true
    },
    "kernelspec": {
      "name": "python3",
      "display_name": "Python 3"
    },
    "language_info": {
      "name": "python"
    }
  },
  "cells": [
    {
      "cell_type": "markdown",
      "source": [
        "# Tareas: Diplomado de Técnicas Estadísticas y Minería de Datos, Módulo 2."
      ],
      "metadata": {
        "id": "BguBdD3DHPC9"
      }
    },
    {
      "cell_type": "markdown",
      "source": [
        "## Introducción\n",
        "\n",
        "El presente cuaderno reúne todas las tareas realizadas durante el **Segundo Módulo del Diplomado en Técnicas Estadísticas y Minería de Datos**, cuyo enfoque principal fue el **desarrollo de bases sólidas en probabilidad y estadística** aplicadas al análisis de datos.\n",
        "\n",
        "En este módulo se abordaron tres temas fundamentales:\n",
        "\n",
        "1. **Espacio de probabilidad**  \n",
        "   Se estudió cómo definir un experimento aleatorio, sus posibles resultados y la asignación de probabilidades a los eventos. Este concepto es la base para cualquier análisis estadístico y permite modelar la incertidumbre de manera rigurosa.\n",
        "\n",
        "2. **Variables aleatorias**  \n",
        "   Se trabajó con variables discretas y continuas, su función de probabilidad/densidad, $\\mathbb{E}[X]$, $\\mathrm{Var}(X)$ y otras medidas importantes para describir fenómenos aleatorios y cuantificar el riesgo o la variabilidad de datos.\n",
        "\n",
        "3. **Estadística inferencial**  \n",
        "   Se revisaron técnicas para **estimar parámetros poblacionales** y **comprobar hipótesis** a partir de muestras. Este bloque fue clave para comprender cómo generalizar resultados y tomar decisiones basadas en datos con un nivel controlado de confianza.\n",
        "\n",
        "El objetivo de este notebook es **integrar todas las tareas y ejercicios resueltos**, sirviendo como evidencia de aprendizaje y como una referencia práctica para aplicar estos conceptos en futuros análisis de datos y problemas reales.\n"
      ],
      "metadata": {
        "id": "ZrBLc4rrKMof"
      }
    },
    {
      "cell_type": "markdown",
      "source": [
        "## Ejercicio de Clase 30 de Agosto"
      ],
      "metadata": {
        "id": "2SF9ZiQrKc02"
      }
    },
    {
      "cell_type": "code",
      "execution_count": 1,
      "metadata": {
        "id": "7dWhudpfHMeE"
      },
      "outputs": [],
      "source": [
        "# Vamos a crear el espacio muestral\n",
        "# Importamos el modulo\n",
        "import itertools\n",
        "from itertools import product"
      ]
    },
    {
      "cell_type": "code",
      "source": [
        "Omega = set(product({\"A\",\"S\"}, repeat=3))\n",
        "# product -> genera todas las tuplas de longitud 3\n",
        "# set -> lo convierte en conjunto\n",
        "Omega"
      ],
      "metadata": {
        "colab": {
          "base_uri": "https://localhost:8080/"
        },
        "id": "AA_uI8HRKmnb",
        "outputId": "0bd4704b-a178-4a71-e5e4-b1df8c4bec47"
      },
      "execution_count": 2,
      "outputs": [
        {
          "output_type": "execute_result",
          "data": {
            "text/plain": [
              "{('A', 'A', 'A'),\n",
              " ('A', 'A', 'S'),\n",
              " ('A', 'S', 'A'),\n",
              " ('A', 'S', 'S'),\n",
              " ('S', 'A', 'A'),\n",
              " ('S', 'A', 'S'),\n",
              " ('S', 'S', 'A'),\n",
              " ('S', 'S', 'S')}"
            ]
          },
          "metadata": {},
          "execution_count": 2
        }
      ]
    },
    {
      "cell_type": "markdown",
      "source": [
        "**Ejercicio** Calcular las probabilidades faltantes\n",
        "- $S$: todos los resultados son soles\n",
        "- $E$: por lo menos un resultado es sol\n"
      ],
      "metadata": {
        "id": "wepaoGRwKtTd"
      }
    },
    {
      "cell_type": "markdown",
      "source": [
        "**Solución** Para $S$, vamos a descomponer al conjunto de la siguiente manera: $S = S_1 \\cap S_2 \\cap S_3$ donde $S_{i}:$ cae sol en el i-esimo coordenada."
      ],
      "metadata": {
        "id": "YqE2qumLKw2Z"
      }
    },
    {
      "cell_type": "code",
      "source": [
        "# Vamos a crear el evento S1\n",
        "S_1 = {om for om in Omega if om[0]==\"S\"}\n",
        "S_1"
      ],
      "metadata": {
        "colab": {
          "base_uri": "https://localhost:8080/"
        },
        "id": "Kl4zAmo5Kp94",
        "outputId": "189012fb-6e8f-4e26-c169-4510fdbc0796"
      },
      "execution_count": 3,
      "outputs": [
        {
          "output_type": "execute_result",
          "data": {
            "text/plain": [
              "{('S', 'A', 'A'), ('S', 'A', 'S'), ('S', 'S', 'A'), ('S', 'S', 'S')}"
            ]
          },
          "metadata": {},
          "execution_count": 3
        }
      ]
    },
    {
      "cell_type": "code",
      "source": [
        "# Vamos a crear el evento S2\n",
        "S_2 = {om for om in Omega if om[1]==\"S\"}\n",
        "S_2"
      ],
      "metadata": {
        "colab": {
          "base_uri": "https://localhost:8080/"
        },
        "id": "_8u_4GCaKzGh",
        "outputId": "87fff022-905b-45ef-e9cd-06bd06bfe565"
      },
      "execution_count": 4,
      "outputs": [
        {
          "output_type": "execute_result",
          "data": {
            "text/plain": [
              "{('A', 'S', 'A'), ('A', 'S', 'S'), ('S', 'S', 'A'), ('S', 'S', 'S')}"
            ]
          },
          "metadata": {},
          "execution_count": 4
        }
      ]
    },
    {
      "cell_type": "code",
      "source": [
        "# Vamos a crear el evento S3\n",
        "S_3 = {om for om in Omega if om[2]==\"S\"}\n",
        "S_3"
      ],
      "metadata": {
        "colab": {
          "base_uri": "https://localhost:8080/"
        },
        "id": "MeO7HyMcK0zv",
        "outputId": "b1b03dc5-23c3-4d82-f17f-b46f749fa6cb"
      },
      "execution_count": 5,
      "outputs": [
        {
          "output_type": "execute_result",
          "data": {
            "text/plain": [
              "{('A', 'A', 'S'), ('A', 'S', 'S'), ('S', 'A', 'S'), ('S', 'S', 'S')}"
            ]
          },
          "metadata": {},
          "execution_count": 5
        }
      ]
    },
    {
      "cell_type": "code",
      "source": [
        "# Vamos a crear el evento A\n",
        "S = S_1.intersection(S_2.intersection(S_3))\n",
        "S"
      ],
      "metadata": {
        "colab": {
          "base_uri": "https://localhost:8080/"
        },
        "id": "1LJ7yDiwK2UP",
        "outputId": "e2b02d11-d808-4fb2-dd40-1a5103316301"
      },
      "execution_count": 6,
      "outputs": [
        {
          "output_type": "execute_result",
          "data": {
            "text/plain": [
              "{('S', 'S', 'S')}"
            ]
          },
          "metadata": {},
          "execution_count": 6
        }
      ]
    },
    {
      "cell_type": "code",
      "source": [
        "card_S=len(S)"
      ],
      "metadata": {
        "id": "LY86Bh0DK4H2"
      },
      "execution_count": 7,
      "outputs": []
    },
    {
      "cell_type": "code",
      "source": [
        "# Calculamos la probabilidad\n",
        "P_S = card_S / len(Omega)\n",
        "print(f\"La probabilidad de que todos los resultados sean soles es {P_S}\")"
      ],
      "metadata": {
        "colab": {
          "base_uri": "https://localhost:8080/"
        },
        "id": "yLdwj8lYK6MH",
        "outputId": "00a7fe07-56e0-4ba5-eb21-229b5e7b23cf"
      },
      "execution_count": 8,
      "outputs": [
        {
          "output_type": "stream",
          "name": "stdout",
          "text": [
            "La probabilidad de que todos los resultados sean soles es 0.125\n"
          ]
        }
      ]
    },
    {
      "cell_type": "markdown",
      "source": [
        " **Solución** Para $E$, vamos a descomponer al conjunto de la siguiente manera: $E = S_1 \\cup S_2 \\cup S_3$ donde $S_{i}:$ cae sol en el i-esimo coordenada."
      ],
      "metadata": {
        "id": "ypMS3GfNK-Pa"
      }
    },
    {
      "cell_type": "code",
      "source": [
        "# Aprovechando que ya se tienen definidos los conjuntos S_i solo resta realizar la union\n",
        "E = S_1.union(S_2.union(S_3))\n",
        "E"
      ],
      "metadata": {
        "colab": {
          "base_uri": "https://localhost:8080/"
        },
        "id": "PT3l2-MVK7-1",
        "outputId": "4c4ab58c-ca16-4183-8ff0-c6da6e23c091"
      },
      "execution_count": 10,
      "outputs": [
        {
          "output_type": "execute_result",
          "data": {
            "text/plain": [
              "{('A', 'A', 'S'),\n",
              " ('A', 'S', 'A'),\n",
              " ('A', 'S', 'S'),\n",
              " ('S', 'A', 'A'),\n",
              " ('S', 'A', 'S'),\n",
              " ('S', 'S', 'A'),\n",
              " ('S', 'S', 'S')}"
            ]
          },
          "metadata": {},
          "execution_count": 10
        }
      ]
    },
    {
      "cell_type": "code",
      "source": [
        "card_E=len(E)"
      ],
      "metadata": {
        "id": "-0prH_05LGvj"
      },
      "execution_count": 11,
      "outputs": []
    },
    {
      "cell_type": "code",
      "source": [
        "# Calculamos la probabilidad\n",
        "P_E = card_E / len(Omega)\n",
        "print(f\"La probabilidad de que por lo menos un resultado sea sol es {P_E}\")"
      ],
      "metadata": {
        "colab": {
          "base_uri": "https://localhost:8080/"
        },
        "id": "0spGiUphLIPx",
        "outputId": "bed32683-7b40-4fd7-8caf-a66ae8b6b82e"
      },
      "execution_count": 12,
      "outputs": [
        {
          "output_type": "stream",
          "name": "stdout",
          "text": [
            "La probabilidad de que por lo menos un resultado sea sol es 0.875\n"
          ]
        }
      ]
    },
    {
      "cell_type": "markdown",
      "source": [
        "## Actividad del sábado 6 de septiembre"
      ],
      "metadata": {
        "id": "8UapGuoQLKzD"
      }
    },
    {
      "cell_type": "code",
      "source": [
        "import numpy as np\n",
        "import numpy.random as npr # para generar numeros aleatorios\n",
        "\n",
        "import matplotlib.pyplot as plt # para crear gráficos\n",
        "import random # para generar numeros aleatorios (módulo estándar de Python)\n",
        "\n",
        "import scipy.stats as sps # para distribuciones discretas y continuas, pruebas estadísticas\n",
        "#from scipy.stats import randint # para generar números enteros aleatorios (uniforme discreta)"
      ],
      "metadata": {
        "id": "SSxqH93YLoG5"
      },
      "execution_count": 13,
      "outputs": []
    },
    {
      "cell_type": "markdown",
      "source": [
        "**Ejercicio 1**\n",
        "\n",
        "Decimos que una variable aleatoria $X$ tiene distribución **uniforme discreta** en el conjunto $\\{x_1, x_2, \\dots, x_n\\}$ si su función de densidad está dada por\n",
        "$$f_{X}(x) = \\begin{cases} \\frac{1}{n}, \\quad \\text{si } x\\in \\{x_1, x_2, \\dots, x_n\\} \\\\ 0, \\quad \\text{e.o.c} \\end{cases}$$\n",
        "\n",
        "Se llama *uniforme* porque cada uno de sus posibles resultados de $X$ tienen la misma probabilidad.\n",
        "\n",
        "**Notación:** $X \\sim Unif(x_1, x_2, \\dots, x_n)$.\n",
        "\n",
        "La esperanza y la varianza de $X$ están dadas por:\n",
        "\n",
        "$$\\mathbb{E}(X) = \\sum_{x}xf_{X}(x) = \\frac{x_n + x_1}{2}$$\n",
        "y\n",
        "$$\\text{Var}(X) = \\mathbb{E}[(X-\\mathbb{E}(x))^2] = \\frac{(x_n - x_1 + 1)^2 -1}{12}$$\n",
        "\n"
      ],
      "metadata": {
        "id": "uUOIk915MJya"
      }
    },
    {
      "cell_type": "markdown",
      "source": [
        "$\\color{purple}{\\text{Solución}}$\n",
        "\n",
        "PD. Sea $X \\sim Unif(x_1, x_2, \\dots, x_n)$ demostrar que:\n",
        "- $\\mathbb{E}(X) =  \\frac{x_n + x_1}{2}$\n",
        "- $\\text{Var}(X) =  \\frac{(x_n - x_1 + 1)^2 -1}{12}$\n",
        "\n",
        "Demostración\n",
        "- $\\mathbb{E}(X) = \\sum_{x}xf_{X}(x) =\\sum_{x=x_1}^{x_n}x\\frac{1}{n} =\\frac{1}{n}\\sum_{x=x_1}^{x_n}x =\\frac{1}{n}\\sum_{x=x_1}^{x_n}x =\\frac{1}{n}(\\sum_{x=0}^{n-1}x_1+x)=\\frac{1}{n}(n\\cdot x_1+\\sum_{x=1}^{n-1}x) $\n",
        "\n",
        "$//\\text{La formula de la suma de los primeros n números dada por gauss está dada por} \\sum_{x=1}^{m}=\\frac{m(m+1)}{2}//$\n",
        "\n",
        "Para este caso m=n-1\n",
        "\n",
        "$\\begin{aligned}\n",
        "\\Rightarrow \\mathbb{E}(X)= & \\frac{1}{n}(n\\cdot x_1+\\left(\\frac{(n-1)((n-1)+1)}{2}\\right))=\\frac{1}{n}(n\\cdot x_1+\\left(\\frac{(n-1)(n)}{2}\\right))\\\\\n",
        "& =\\frac{1}{n}(n)(x_1+\\left(\\frac{(n-1)}{2}\\right))=\\frac{2x_1}{2}+\\left(\\frac{(n-1)}{2}\\right)=\\left(\\frac{2x_1+(n-1)}{2}\\right)=\\left(\\frac{2x_1+(n-1)}{2}\\right)\\\\\n",
        "& =\\left(\\frac{(x_1+(n-1))+x_1}{2}\\right)= \\frac{x_n + x_1}{2}\n",
        "& \\blacksquare\n",
        "\\end{aligned}\n",
        "$\n",
        "\n",
        "\n",
        "- $\\text{Var}(X) = \\mathbb{E}[(X-\\mathbb{E}(x))^2] = \\frac{(x_n - x_1 + 1)^2 -1}{12}$\n",
        "\n",
        "\n",
        "$\\mathbb{Var}(X) = \\mathbb{E}[X^2] - (\\mathbb{E}[X])^2 $\n",
        "\n",
        "Por el inciso anterior sabemos que $\\mathbb{E}(X) =  \\frac{x_n + x_1}{2}$\n",
        "\n",
        "$\\mathbb{Var}(X) =\\sum_{x}x^2f_{X}(x)- \\left(\\frac{x_1+x_n}{2}\\right)^2=\\left(\\frac{1}{n}\\sum_{x=x_1}^{x_n} x^2\\right) - \\left(\\frac{x_1+x_n}{2}\\right)^2,\\quad .$\n",
        "\n",
        "$//\\text{ De manera similar usaremos la siguiente fórmula qu es la suma de los primeros n números al cuadrado} \\sum_{k=1}^{n} k^2 = \\frac{n(n+1)(2n+1)}{6}// $\n",
        "\n",
        "Primero podemos reexpresar la serie de los términos desde $x_1$ hasta $x_n$ restando a la serie que va desde $1$ hasta $x_n$ menos la serie que va\n",
        "desde 1 hasta $x_n+1$ y queda de la siguiente manera usando la fórmula propuesta anteriormente\\\n",
        "$\\Rightarrow \\sum_{x=x_1}^{x_n} x^2 = \\sum_{k=1}^{x_n} k^2 - \\sum_{k=1}^{x_1-1} k^2\n",
        " = \\frac{x_n(x_n+1)(2x_n+1)}{6} - \\frac{(x_1-1)x_1(2x_1-1)}{6}$\n",
        "\n",
        "$ \\Rightarrow \\mathbb{E}[X^2] = \\frac{1}{n}\\left[\\frac{x_n(x_n+1)(2x_n+1)}{6} - \\frac{(x_1-1)x_1(2x_1-1)}{6}\\right].$\n",
        "\n",
        "$\\therefore \\mathrm{Var}(X) = \\frac{1}{n}\\left[\\frac{x_n(x_n+1)(2x_n+1)}{6} - \\frac{(x_1-1)x_1(2x_1-1)}{6}\\right] - \\left(\\frac{x_1+x_n}{2}\\right)^2 = \\frac{(x_n\n",
        "- x_1 + 1)^2 - 1}{12}.$\n"
      ],
      "metadata": {
        "id": "vvp8IRRhMJAe"
      }
    },
    {
      "cell_type": "markdown",
      "source": [
        "**Ejercicio 2: Calcular su Esperanza y su Varianza**\n",
        "\n",
        "$\\color{purple}{\\text{Solución}}$\n",
        "Con el resultado del Ejercicio 1 se puede aplicar a este caso\n",
        "La esperanza y la varianza de $X$ están dadas por:\n",
        "\n",
        "$$\\mathbb{E}(X) =\\frac{x_n + x_1}{2}$$\n",
        "y\n",
        "$$\\text{Var}(X) =\\frac{(x_n - x_1 + 1)^2 -1}{12}$$\n",
        "\n",
        "Para este caso $x_1=1$ y $x_n=100$\n",
        "\n",
        "$\n",
        "\\therefore \\mathbb{E}[X] = \\frac{1+100}{2} = 50.5\n",
        "$\n",
        "\n",
        "y\n",
        "\n",
        "$\n",
        "\\mathrm{Var}(X) = \\frac{(100-1+1)^2 - 1}{12} = \\frac{100^2-1}{12} = \\frac{9999}{12} \\approx 833.25\n",
        "$"
      ],
      "metadata": {
        "id": "50J-2ILqMUh5"
      }
    },
    {
      "cell_type": "code",
      "source": [
        "import numpy as np\n",
        "X = np.arange(1, 101)\n",
        "p = np.ones(100) / 100  # probabilidades uniformes\n",
        "\n",
        "# esperanza\n",
        "E_X = np.sum(X * p)\n",
        "\n",
        "# varianza\n",
        "Var_X = np.sum((X - E_X)**2 * p)\n",
        "\n",
        "print(f\"E[X] = {E_X}\")\n",
        "print(f\"Var[X] = {Var_X}\")"
      ],
      "metadata": {
        "colab": {
          "base_uri": "https://localhost:8080/"
        },
        "id": "ZHx9aC2WMGMA",
        "outputId": "917d9fa3-c2d0-49b5-c901-6614d7f05cf6"
      },
      "execution_count": 14,
      "outputs": [
        {
          "output_type": "stream",
          "name": "stdout",
          "text": [
            "E[X] = 50.5\n",
            "Var[X] = 833.2500000000001\n"
          ]
        }
      ]
    },
    {
      "cell_type": "markdown",
      "source": [
        "**Ejercicio 3**\n",
        "\n",
        "Es una distribución de probabilidad discreta que sirve para calcular la probabilidad de que ocurra un determinado número de eventos raros durante un intervalo dado (puede ser tiempo, lingitud, área, volumén, etc).\n",
        "\n",
        "Esta v.a. tomavalores sobre el conjunto $\\{0,1,2,...\\}$ y tiene un parámetro $\\lambda>0$, el cual representa el número de veces que se **espera** que ocurra un evento durante un intervalo dado.\n",
        "\n",
        "Su función de densidad, está dado como sigue:\n",
        "$$ f_X(x) = \\mathbb{P}(X=x) = \\begin{cases} e^{-\\lambda}\\frac{\\lambda^x}{x!}, \\quad \\text{si } x\\in \\{0,1,...\\} \\\\\n",
        "0, \\quad \\text{e.o.c} \\end{cases}$$\n",
        "\n",
        "**Notación:** $X\\sim \\text{Poi}(\\lambda)$.\n",
        "\n",
        "Notemos que $\\mathbb{E}[X]=\\lambda$ y que $\\text{Var}(X)=\\lambda$.\n",
        "\n",
        "**Ejemplo** Supongamos que el número de accidentes que ocurre en un punto en un día tiene distribución Poisson con parámetro $\\lambda=2$,\n",
        "- ¿cuál es la probabilidad de que en un día ocurran más de dos accidentes?\n",
        "  $$ \\begin{align*} \\mathbb{P}(X>2) &= 1- \\mathbb{P}(X\\le 2) \\\\\n",
        "    &= 1- [\\mathbb{P}(X=0) + \\mathbb{P}(X=1) + \\mathbb{P}(X=2)] \\\\\n",
        "    &= 1- \\left[ e^{-2}\\frac{2^0}{0!} + e^{-2}\\frac{2^1}{1!} + e^{-2}\\frac{2^2}{2!} \\right] \\\\\n",
        "    &= 1 - e^{-2}[1+2+2] = 1-5e^{-2} = 0.3233\n",
        "    \\end{align*} $$\n",
        "- ¿cuál es la probabilidad de que ocurran más de dos accidentes sabiendo que por lo menos ocurre uno?\n",
        "  $$ \\begin{align*} \\mathbb{P}(X>2 \\mid X \\ge 1) &= \\frac{\\mathbb{P}(\\{X>2\\} \\cap \\{X \\ge 1\\} )}{\\mathbb{P}\\{X \\ge 1)\\}} \\\\\n",
        "       &= \\frac{\\mathbb{P}(\\{X>2\\})}{\\mathbb{P}\\{X \\ge 1)\\}} \\\\\n",
        "       & = \\frac{.3233}{1-\\mathbb{P}(X<1)} = \\frac{0.3233}{1-e^{-2}} = \\frac{0.3233}{0.8646} = 0.3739\n",
        "       \\end{align*} $$\n",
        "\n",
        "$\\color{purple}{\\text{Ejercicio 3.}}$ Usando el atributo `.cdf` [Poisson](https://docs.scipy.org/doc/scipy/reference/generated/scipy.stats.poisson.html) calcula las probabilidades anteriores. Y también graficar la función de densidad.\n",
        "\n",
        "$\\color{purple}{\\text{Solución}}$"
      ],
      "metadata": {
        "id": "WUpvapkhMfYW"
      }
    },
    {
      "cell_type": "code",
      "source": [
        "from math import e\n",
        "from scipy.stats import poisson\n",
        "\n",
        "lam = 2\n",
        "p_gt_2 = 1 - poisson.cdf(2, mu=lam)\n",
        "\n",
        "#P(X > 2 | X ≥ 1) = P(X>2) / P(X≥1)\n",
        "p_ge_1 = 1 - poisson.cdf(0, mu=lam)\n",
        "p_gt_2_given_ge_1 = p_gt_2 / p_ge_1\n",
        "\n",
        "print(f\"P(X > 2) = {p_gt_2:.4f}\")\n",
        "print(f\"P(X > 2 | X ≥ 1) = {p_gt_2_given_ge_1:.4f}\")\n",
        "k = np.arange(0, 11)\n",
        "pmf_vals = poisson.pmf(k, mu=lam)\n",
        "\n",
        "plt.bar(k, pmf_vals, color=\"skyblue\", edgecolor=\"black\")\n",
        "plt.title(\"Distribución Poisson(λ=2) - PMF\")\n",
        "plt.xlabel(\"k\")\n",
        "plt.ylabel(\"P(X = k)\")\n",
        "plt.show()"
      ],
      "metadata": {
        "colab": {
          "base_uri": "https://localhost:8080/",
          "height": 507
        },
        "id": "l4B2wkHvMezH",
        "outputId": "d97c046e-8265-4c5f-a0db-f4f0815e92d4"
      },
      "execution_count": 15,
      "outputs": [
        {
          "output_type": "stream",
          "name": "stdout",
          "text": [
            "P(X > 2) = 0.3233\n",
            "P(X > 2 | X ≥ 1) = 0.3739\n"
          ]
        },
        {
          "output_type": "display_data",
          "data": {
            "text/plain": [
              "<Figure size 640x480 with 1 Axes>"
            ],
            "image/png": "[encoded data removed]"
          },
          "metadata": {}
        }
      ]
    },
    {
      "cell_type": "markdown",
      "source": [
        "## Ejercicio v.a. uniforme continua (miercoles 10 se septiembre)"
      ],
      "metadata": {
        "id": "JQendVQTOXJK"
      }
    },
    {
      "cell_type": "markdown",
      "source": [
        "$\\color{red}{\\text{Ejercicio 1.}}$ Un alumno se dirige a la biblioteca para solicitar el préstamo de un libro y decide que no puede esperar más de $10$ minutos en ser atendido. Supongamos que el bibliotecario tarda por lo menos $0.5$ minutos en atender a una persona, entonces es razonable proponer una distribución uniforme en el intervalo $[0.5,10]$ para modelar el comportamiento de la variable $X$ que es el tiempo en ser atendido (en  minutos).\n",
        "\n",
        "- Da la función de densidad y gráfica.\n",
        "- ¿Cuál es la probabilidad de que el tiempo en ser atendido sea mayor a $5$ minutos pero menor a $8$ minutos?\n",
        "- ¿Cuál es la esperanza y varianza?\n",
        "- Calcula la función de distribución y gráficala, y con ella calcula: $\\mathbb{P}(2.51\\le X \\le 7.99)$."
      ],
      "metadata": {
        "id": "lZs1Ct1FOgoQ"
      }
    },
    {
      "cell_type": "code",
      "source": [
        "import numpy as np\n",
        "import matplotlib.pyplot as plt\n",
        "from scipy.stats import uniform"
      ],
      "metadata": {
        "id": "ZTVtLio2MmCl"
      },
      "execution_count": 16,
      "outputs": []
    },
    {
      "cell_type": "code",
      "source": [
        "a,b=0.5,10\n",
        "width = b - a\n",
        "cons = 1 / width\n",
        "\n",
        "def pdf(x):\n",
        "  x = np.array(x)\n",
        "  return np.where((x >= a) & (x <= b), cons, 0)\n",
        "\n",
        "def cdf(x):\n",
        "  x = np.array(x)\n",
        "  return np.where(x < a, 0, np.where(x > b, 1, (x - a) / (width)))"
      ],
      "metadata": {
        "id": "C1BuSDfvOjR4"
      },
      "execution_count": 17,
      "outputs": []
    },
    {
      "cell_type": "code",
      "source": [
        "#Da la función de densidad y gráfica.\n",
        "\n",
        "xs=np.linspace(a-1,b+1,400)\n",
        "plt.figure(figsize=(10,5))\n",
        "plt.plot(xs,pdf(xs),label=\"PDF\")\n",
        "plt.axvline(a, color='gray', linestyle='--')\n",
        "plt.axvline(b, color='gray', linestyle='--')\n",
        "plt.title(\"Función de densidad (PDF)\")\n",
        "plt.xlabel(\"x\")\n",
        "plt.ylabel(\"f(x)\")\n",
        "plt.grid(alpha=0.3)\n",
        "plt.legend()\n",
        "plt.show()"
      ],
      "metadata": {
        "colab": {
          "base_uri": "https://localhost:8080/",
          "height": 487
        },
        "id": "QBMMJlmFOkw-",
        "outputId": "b01bf511-e633-464c-bec5-bcf48a058805"
      },
      "execution_count": 18,
      "outputs": [
        {
          "output_type": "display_data",
          "data": {
            "text/plain": [
              "<Figure size 1000x500 with 1 Axes>"
            ],
            "image/png": "[encoded data removed]"
          },
          "metadata": {}
        }
      ]
    },
    {
      "cell_type": "code",
      "source": [
        "#¿Cuál es la probabilidad de que el tiempo en ser atendido sea mayor a $5$ minutos pero menor a $8$ minutos?\n",
        "\n",
        "p_5_8 = (8-5)/width\n",
        "\n",
        "p_5_8"
      ],
      "metadata": {
        "colab": {
          "base_uri": "https://localhost:8080/"
        },
        "id": "NCUoNeW0OmYD",
        "outputId": "e6b0f0c5-8792-4f47-824f-21640198dac0"
      },
      "execution_count": 19,
      "outputs": [
        {
          "output_type": "execute_result",
          "data": {
            "text/plain": [
              "0.3157894736842105"
            ]
          },
          "metadata": {},
          "execution_count": 19
        }
      ]
    },
    {
      "cell_type": "code",
      "source": [
        "#¿Cuál es la esperanza y varianza?\n",
        "\n",
        "E = (a+b)/2\n",
        "var = (width**2)/12\n",
        "\n",
        "print(f\"Esperanza: {E}\")\n",
        "print(f\"Varianza: {var}\")"
      ],
      "metadata": {
        "colab": {
          "base_uri": "https://localhost:8080/"
        },
        "id": "v9XtbpthOoKa",
        "outputId": "6d099c91-0c65-4cea-d90f-203ec632546a"
      },
      "execution_count": 20,
      "outputs": [
        {
          "output_type": "stream",
          "name": "stdout",
          "text": [
            "Esperanza: 5.25\n",
            "Varianza: 7.520833333333333\n"
          ]
        }
      ]
    },
    {
      "cell_type": "code",
      "source": [
        "#Calcula la función de distribución y gráficala, y con ella calcula:  P(2.51≤X≤7.99) .\n",
        "\n",
        "p_interval= cdf(7.99)-cdf(2.51)\n",
        "\n",
        "p_interval"
      ],
      "metadata": {
        "colab": {
          "base_uri": "https://localhost:8080/"
        },
        "id": "T5L8HiyZOp9E",
        "outputId": "ccbad4cc-f502-418c-eddd-14403231abe9"
      },
      "execution_count": 21,
      "outputs": [
        {
          "output_type": "execute_result",
          "data": {
            "text/plain": [
              "np.float64(0.576842105263158)"
            ]
          },
          "metadata": {},
          "execution_count": 21
        }
      ]
    },
    {
      "cell_type": "code",
      "source": [
        "# Grafica CDF\n",
        "\n",
        "plt.figure(figsize=(7,3))\n",
        "plt.plot(xs, cdf(xs), label=\"CDF\", color=\"orange\")\n",
        "plt.axvline(a, color='gray', linestyle='--')\n",
        "plt.axvline(b, color='gray', linestyle='--')\n",
        "plt.title(\"Función de distribución acumulada (CDF)\")\n",
        "plt.xlabel(\"x\")\n",
        "plt.ylabel(\"F(x)\")\n",
        "plt.grid(alpha=0.3)\n",
        "plt.legend()\n",
        "plt.show()"
      ],
      "metadata": {
        "colab": {
          "base_uri": "https://localhost:8080/",
          "height": 333
        },
        "id": "n7xyb3o9Or6F",
        "outputId": "0e2aa5b4-4c88-45eb-cd70-b3f521f24762"
      },
      "execution_count": 22,
      "outputs": [
        {
          "output_type": "display_data",
          "data": {
            "text/plain": [
              "<Figure size 700x300 with 1 Axes>"
            ],
            "image/png": "[encoded data removed]"
          },
          "metadata": {}
        }
      ]
    },
    {
      "cell_type": "markdown",
      "source": [
        "**Variable aleatoria uniforme sobre el intervalo $(a,b)$.**\n",
        "\n",
        "Una variable aleatoria $X$ se dice que tiene distribución uniforme continua  en el intervalo $(a,b)$ con $a,b\\in\\mathbb{R}$, si su función de densidad esta dada por:\n",
        "$$f_{X}(x)=\\begin{cases}\n",
        "\t\\frac{1}{b-a} &\\quad \\text{si } a< x < b\\\\\n",
        "\t\\qquad 0 &\\quad \\text{en otro caso}  \n",
        "\\end{cases}$$\n",
        "\n",
        "**Notación.** $X\\sim \\text{Unif}(a,b)$ $\\text{Unif}[a,b]$\n",
        "\n",
        "**Obs:**\n",
        "* La distribución uniforme continua en $(a,b)$ es simétrica.\n",
        "* A los intervalos de la misma longitud contenidos en $(a,b)$ se les asigna la misma probabilidad. Esto se representa gráficamente con la probabilidad de que $X$ se encuentre en el intervalo $(s,t)$:\n",
        "\n",
        "\n",
        "La función de distribución de $X\\sim Unif((a,b))$ esta dada por:\n",
        "$$F_{X}(x)=\\begin{cases}\n",
        "\t 0 &\\quad \\text{si } x\\le a \\\\\n",
        "\t\\frac{x-a}{b-a} &\\quad \\text{si } a<x<b\\\\\n",
        "\t 1 &\\quad \\text{si } x\\ge b  \n",
        "\\end{cases}$$\n",
        "\n",
        "La esperanza de una variable aleatoria uniforme es la siguiente,\n",
        "$$\\begin{align*}\n",
        "\\mathbb{E}[X] &= \\int_{a}^{b}xf_{X}(x)dx = \\int_{a}^{b}x\\frac{1}{b-a}dx = \\frac{1}{b-a}\\int_{a}^{b}xdx  = \\frac{1}{b-a}\\left[\\frac{x^{2}}{2}\\right]_{a}^{b} \\\\ &= \\frac{1}{b-a}\\left[\\frac{b^{2}}{2}-\\frac{a^{2}}{2}\\right] =  \\frac{b^{2}-a^{2}}{2(b-a)} = \\frac{(b-a)(b+a)}{2(b-a)} = \\frac{a+b}{2}.\n",
        "\\end{align*}$$\n",
        "\n",
        "Para calcular la varianza, primero vamos a calcular el segundo momento\n",
        "$$\\begin{align*}\n",
        "\\mathbb{E}[X^{2}] &= \\int_{a}^{b}x^{2}f_{X}(x)dx = \\int_{a}^{b}x^{2}\\frac{1}{b-a}dx = \\frac{1}{b-a}\\int_{a}^{b}x^{2}dx \\\\ &= \\frac{1}{b-a}\\left[\\frac{x^{3}}{3}\\right]_{a}^{b} = \\frac{1}{b-a}\\left[\\frac{b^{3}}{3}-\\frac{a^{3}}{3}\\right] =  \\frac{b^{3}-a^{3}}{3(b-a)}.\n",
        "\\end{align*}$$\n",
        "\n",
        "Por lo que se tiene lo siguiente\n",
        "\n",
        "$$Var(X) = \\mathbb{E}[X^{2}]-(\\mathbb{E}[X])^{2} =\\frac{b^{3}-a^{3}}{3(b-a)}-\\left(\\frac{a+b}{2}\\right)^{2} = \\frac{(b-a)^{2}}{12}.$$"
      ],
      "metadata": {
        "id": "Pt6rAsieO3ON"
      }
    },
    {
      "cell_type": "markdown",
      "source": [
        "**Variable aleatoria uniforme sobre el intervalo $[0.5,10]$**\n",
        "\n",
        "Sea $X \\sim \\text{Unif}(0.5,10)$.  \n",
        "La función de densidad está dada por\n",
        "\n",
        "$$\n",
        "f_{X}(x)=\n",
        "\\begin{cases}\n",
        "\\dfrac{1}{10-0.5} = \\dfrac{1}{9.5}, & 0.5 \\le x \\le 10,\\\\[6pt]\n",
        "0, & \\text{en otro caso.}\n",
        "\\end{cases}\n",
        "$$\n",
        "\n",
        "La función de distribución (CDF) es:\n",
        "\n",
        "$$\n",
        "F_{X}(x)=\n",
        "\\begin{cases}\n",
        "0, & x < 0.5,\\\\[6pt]\n",
        "\\dfrac{x-0.5}{9.5}, & 0.5 \\le x \\le 10,\\\\[6pt]\n",
        "1, & x > 10.\n",
        "\\end{cases}\n",
        "$$\n",
        "\n",
        "\n",
        "\n",
        "**Esperanza y Varianza**\n",
        "\n",
        "La esperanza es:\n",
        "\n",
        "$$\n",
        "\\mathbb{E}[X] = \\frac{a+b}{2} = \\frac{0.5 + 10}{2} = 5.25.\n",
        "$$\n",
        "\n",
        "El segundo momento es:\n",
        "\n",
        "$$\n",
        "\\mathbb{E}[X^{2}] = \\frac{b^{3}-a^{3}}{3(b-a)} =\n",
        "\\frac{10^{3}-0.5^{3}}{3(9.5)} = 34.0208.\n",
        "$$\n",
        "\n",
        "Por lo que la varianza es:\n",
        "\n",
        "$$\n",
        "\\operatorname{Var}(X) = \\mathbb{E}[X^{2}] - (\\mathbb{E}[X])^{2}\n",
        "= 34.0208 - (5.25)^{2}\n",
        "= \\frac{(10-0.5)^{2}}{12}\n",
        "= 7.5208.\n",
        "$$\n",
        "\n",
        "\n",
        "**Probabilidades**\n",
        "\n",
        "**Probabilidad de que $5<X<8$:**\n",
        "\n",
        "$$\n",
        "P(5<X<8)=\\int_{5}^{8}\\frac{1}{9.5}dx\n",
        "=\\frac{8-5}{9.5}\n",
        "=\\frac{3}{9.5}\n",
        "=0.3158.\n",
        "$$\n",
        "\n",
        "**Probabilidad de que $2.51 \\le X \\le 7.99$:**\n",
        "\n",
        "$$\n",
        "P(2.51 \\le X \\le 7.99)=F(7.99)-F(2.51)\n",
        "=\\frac{7.99-0.5}{9.5}-\\frac{2.51-0.5}{9.5}\n",
        "=\\frac{5.48}{9.5}\n",
        "=0.5768.\n",
        "$$\n"
      ],
      "metadata": {
        "id": "P1n8EqULO8UN"
      }
    },
    {
      "cell_type": "markdown",
      "source": [
        "## Ejercicio de generar una v.a. Cauchy por medio de uniformes"
      ],
      "metadata": {
        "id": "-0N4fQKbPzyA"
      }
    },
    {
      "cell_type": "markdown",
      "source": [
        "$\\mathbf{Ejemplo}$ (Variable aleatoria Cauchy) Simulemos la variable aleatoria de Cauchy de parámetro $1$ que tiene por función de densidad\n",
        "$$f_{X}(x) = \\frac{1}{\\pi}\\frac{1}{1+x^{2}}, \\quad x\\in\\mathbb{R}$$"
      ],
      "metadata": {
        "id": "ZNWYSYp9QuI-"
      }
    },
    {
      "cell_type": "markdown",
      "source": [
        "**Ejercicio:**\n",
        "- Corroborar que la función así definida es una función de densidad de probabilidad\n",
        "- Encontrar $F_X$\n",
        "- Crear una gráfica en Python que muestre su forma\n",
        "- Generar v.a. Cauchy a partir de una uniforme\n",
        "\n",
        "Por el teorema anterior, para $u\\in (0,1)$\n",
        "$$u=\\frac{1}{\\pi}\\arctan(x)+\\frac{1}{2} \\qquad \\text{si y sólo si} \\qquad x=\\tan\\left({\\pi}\\left(u-\\frac{1}{2} \\right) \\right).$$"
      ],
      "metadata": {
        "id": "v9zQgGeUQux3"
      }
    },
    {
      "cell_type": "markdown",
      "source": [
        "Para ser fdp se requiere:  \n",
        "$$\n",
        "f_X(x) \\geq 0\n",
        "$$\n",
        "\n",
        "1.  \n",
        "$$\n",
        "\\pi > 0 \\quad \\land \\quad x^2 \\geq 0 \\;\\;\\Rightarrow\\;\\; f_X(x) > 0\n",
        "$$\n",
        "\n",
        "2.  \n",
        "$$\n",
        "\\int_{-\\infty}^{\\infty} f_X(x)\\, dx = 1\n",
        "$$\n",
        "\n",
        "Sea  \n",
        "$$\n",
        "I = \\int_{-\\infty}^{\\infty} \\frac{1}{\\pi(1+x^2)}\\, dx\n",
        "$$\n",
        "\n",
        "$$\n",
        "I = \\frac{1}{\\pi} \\left[ \\arctan(x) \\right]_{-\\infty}^{+\\infty}\n",
        "$$\n",
        "\n",
        "$$\n",
        "I = \\frac{1}{\\pi} \\Big( \\arctan(+\\infty) - \\arctan(-\\infty) \\Big)\n",
        "$$\n",
        "\n",
        "$$\n",
        "I = \\frac{1}{\\pi} \\left( \\frac{\\pi}{2} - \\left(-\\frac{\\pi}{2}\\right) \\right)\n",
        "$$\n",
        "\n",
        "$$\n",
        "I = \\frac{\\pi}{\\pi} = 1\n",
        "$$\n",
        "\n",
        "Por lo tanto:  \n",
        "$$\n",
        "f_X(x) \\; \\text{es una fdp.}\n",
        "$$"
      ],
      "metadata": {
        "id": "QMJYYHQDQwyr"
      }
    },
    {
      "cell_type": "markdown",
      "source": [
        "Sea la función de distribución acumulada:\n",
        "\n",
        "$$\n",
        "F_X(x) = P(X \\leq x) = \\int_{-\\infty}^x f(t)\\, dt\n",
        "$$\n",
        "\n",
        "$$\n",
        "F_X(x) = \\int_{-\\infty}^x \\frac{1}{\\pi(1+t^2)}\\, dt\n",
        "$$\n",
        "\n",
        "$$\n",
        "= \\frac{1}{\\pi} \\left[ \\arctan(t) \\right]_{-\\infty}^x\n",
        "$$\n",
        "\n",
        "$$\n",
        "= \\frac{1}{\\pi} \\left( \\arctan(x) - \\lim_{t \\to -\\infty} \\arctan(t) \\right)\n",
        "$$\n",
        "\n",
        "$$\n",
        "= \\frac{1}{\\pi} \\left( \\arctan(x) - \\left(-\\frac{\\pi}{2}\\right) \\right)\n",
        "$$\n",
        "\n",
        "$$\n",
        "= \\frac{1}{\\pi} \\left( \\arctan(x) + \\frac{\\pi}{2} \\right)\n",
        "$$\n",
        "\n",
        "Por lo tanto:\n",
        "\n",
        "$$\n",
        "F_X(x) = \\frac{1}{\\pi}\\arctan(x) + \\frac{1}{2}, \\quad \\forall x \\in \\mathbb{R}\n",
        "$$"
      ],
      "metadata": {
        "id": "86PqSWeoQ6Bn"
      }
    },
    {
      "cell_type": "code",
      "source": [
        "import plotly.graph_objects as go\n",
        "import numpy as np\n",
        "import matplotlib.pyplot as plt\n",
        "\n",
        "x = np.linspace(-10, 10, 2000)\n",
        "fx = 1 / (np.pi * (1 + x**2))\n",
        "\n",
        "plt.figure()\n",
        "plt.plot(x,fx,label='f(x)')\n",
        "plt.title('Densidad Cauchy Estandar')\n",
        "plt.xlabel('x')\n",
        "plt.ylabel('f(x)')\n",
        "plt.legend()\n",
        "plt.show()"
      ],
      "metadata": {
        "colab": {
          "base_uri": "https://localhost:8080/",
          "height": 472
        },
        "id": "8Nm90YgPO2Nv",
        "outputId": "702a496d-f515-4c4a-89d0-ebfd2d97c45f"
      },
      "execution_count": 23,
      "outputs": [
        {
          "output_type": "display_data",
          "data": {
            "text/plain": [
              "<Figure size 640x480 with 1 Axes>"
            ],
            "image/png": "[encoded data removed]"
          },
          "metadata": {}
        }
      ]
    },
    {
      "cell_type": "code",
      "source": [
        "rng = np.random.default_rng(42)\n",
        "n = 20000\n",
        "u = rng.random(n)\n",
        "x_samples = np.tan(np.pi * (u - 0.5))\n",
        "\n",
        "x=np.linspace(-10,10,200)\n",
        "fx=1/(np.pi*(1+x**2))\n",
        "\n",
        "plt.figure()\n",
        "plt.hist(x_samples,bins=200,range=(-10,10), density = True, alpha=0.5,label='Histograma(muestras)')\n",
        "plt.plot(x,fx,'r',linewidth=2,label='Densidad terorica')\n",
        "plt.title('Densidad Cauchy Estandar')\n",
        "plt.xlabel('x')\n",
        "plt.ylabel('Densidad')\n",
        "plt.legend()\n",
        "plt.show()"
      ],
      "metadata": {
        "colab": {
          "base_uri": "https://localhost:8080/",
          "height": 472
        },
        "id": "H3KOxl4IQ-RT",
        "outputId": "098956d5-227d-4ba7-a019-61b2ae45a3ea"
      },
      "execution_count": 24,
      "outputs": [
        {
          "output_type": "display_data",
          "data": {
            "text/plain": [
              "<Figure size 640x480 with 1 Axes>"
            ],
            "image/png": "[encoded data removed]"
          },
          "metadata": {}
        }
      ]
    },
    {
      "cell_type": "markdown",
      "source": [
        "## Ejercicios EMV"
      ],
      "metadata": {
        "id": "Bx8YsntXRCJt"
      }
    },
    {
      "cell_type": "markdown",
      "source": [
        "**Ejercicio:** El tiempo de retardo para pacientes con enfermedad coronaria potencial se define como la duración entre el comienzo de un síntoma agudo cardiovascular y la llegada a la unidad de emergencia.\n",
        "\n",
        "Se supone que el tiempo de retardo sigue una distribución exponencial con parámetro $\\theta $.\n",
        "\n",
        "Se registraron los tiempos de retardo (en minutos) en la clínica para los primeros 20 pacientes:\n",
        "\n",
        "$$ 525, \\ 719, \\ 2880, \\ 150, \\ 30, \\ 251, \\ 45, \\ 858, \\ 15, \\ 47, \\ 90, \\ 56, \\ 68, \\ 6, \\ 189, \\ 180, \\ 60, \\ 60, \\ 294, \\ 747 $$\n",
        "\n",
        "- Encuentra un estimador por el **método de momentos** para la media de la distribución (exponencial).\n",
        "  Rocordemos que si $X\\sim Exp(\\theta)$, entonces $\\mathbb{E}[X]=\\frac{1}{\\theta}$\n",
        "- (Python) Encuentra el valor del estimador con los datos dados."
      ],
      "metadata": {
        "id": "N-5grOyJRGaU"
      }
    },
    {
      "cell_type": "markdown",
      "source": [
        "**Estimador por el **Método de Momentos** para la media de una distribución exponencial**\n",
        "\n",
        "Sea una variable aleatoria $(X)$ con distribución exponencial de parámetro $(\\theta>0)$:\n",
        "\n",
        "$$\n",
        "f(x\\mid \\theta)=\\theta e^{-\\theta x}, \\quad x\\ge 0.\n",
        "$$\n",
        "\n",
        "La esperanza teórica es:\n",
        "\n",
        "$$\n",
        "\\mathbb{E}[X] = \\int_0^\\infty x \\,\\theta e^{-\\theta x}\\,dx = \\frac{1}{\\theta}.\n",
        "$$\n",
        "\n",
        "El **primer momento muestral** para una muestra $(x_1,\\ldots,x_n$) es:\n",
        "\n",
        "$$\n",
        "m_1 = \\bar{X} = \\frac{1}{n}\\sum_{i=1}^n x_i.\n",
        "$$\n",
        "\n",
        "El método de momentos iguala momento teórico con muestral con $m_1=\\mathbb{E}[X]$\n",
        "\n",
        "$$\n",
        "\\bar{X} = \\mathbb{E}[X] = \\frac{1}{\\theta}.\n",
        "$$\n",
        "\n",
        "Despejando el parámetro:\n",
        "\n",
        "$$\n",
        "{\\hat{\\theta}_{\\mathrm{MM}} = \\frac{1}{\\bar{X}}}\n",
        "$$\n",
        "\n",
        "y, por lo tanto, un estimador para la **media** $(\\mu=\\mathbb{E}[X])$ es simplemente:\n",
        "\n",
        "$$\n",
        "{\\hat{\\mu}_{\\mathrm{MM}} = \\bar{X}.}\n",
        "$$\n"
      ],
      "metadata": {
        "id": "aKrzeX7MR2x0"
      }
    },
    {
      "cell_type": "code",
      "source": [
        "import numpy as np\n",
        "\n",
        "x = np.array([525, 719, 2880, 150, 30, 251, 45, 858, 15, 47,\n",
        "              90, 56, 68, 6, 189, 180, 60, 60, 294, 747], dtype=float)\n",
        "\n",
        "n = x.size\n",
        "S = x.sum()\n",
        "xbar = x.mean()\n",
        "theta_hat = 1.0 / xbar\n",
        "\n",
        "print(f\"n = {n}\")\n",
        "print(f\"Suma = {S:.0f}\")\n",
        "print(f\"Media muestral (mu_hat_MM) = {xbar:.4f}\")\n",
        "print(f\"theta_hat_MM (MLE también) = {theta_hat:.6f}\")"
      ],
      "metadata": {
        "colab": {
          "base_uri": "https://localhost:8080/"
        },
        "id": "MKLHXco2RACj",
        "outputId": "9177a856-d778-45f1-af9f-bc500c30aacf"
      },
      "execution_count": 25,
      "outputs": [
        {
          "output_type": "stream",
          "name": "stdout",
          "text": [
            "n = 20\n",
            "Suma = 7270\n",
            "Media muestral (mu_hat_MM) = 363.5000\n",
            "theta_hat_MM (MLE también) = 0.002751\n"
          ]
        }
      ]
    },
    {
      "cell_type": "markdown",
      "source": [
        "**Ejercicio (Pyton)**. Suponga que la vida util de los focos de cierta marca, se modela mediante una distribución expoencial de parametro  θ  (desconocido). Probamos 5 focos y encontramos que tienen una vida útil de  2,3,1,3  y  5  años, respectivamente. ¿Cuál es el MLE para  θ ?"
      ],
      "metadata": {
        "id": "j1PJsIiPSLqx"
      }
    },
    {
      "cell_type": "code",
      "source": [
        "import numpy as np\n",
        "\n",
        "x = np.array([2,3,1,3,5])\n",
        "n = len(x)\n",
        "theta_mle = n / x.sum()\n",
        "theta_mle\n",
        "miu=1.0/theta_mle\n",
        "print(f\"theta_mle = {theta_mle:.6f}\")\n",
        "print(f\"miu = {miu:.6f}\")"
      ],
      "metadata": {
        "colab": {
          "base_uri": "https://localhost:8080/"
        },
        "id": "Gi1We8HhSK3n",
        "outputId": "50d7cc94-36fa-41de-ff3e-f457a8011dba"
      },
      "execution_count": 26,
      "outputs": [
        {
          "output_type": "stream",
          "name": "stdout",
          "text": [
            "theta_mle = 0.357143\n",
            "miu = 2.800000\n"
          ]
        }
      ]
    },
    {
      "cell_type": "markdown",
      "source": [
        "## Ejercicios IC"
      ],
      "metadata": {
        "id": "dLyhd5t6SQgq"
      }
    },
    {
      "cell_type": "markdown",
      "source": [
        "**Ejercicio 1** En una encuesta de una Universidad, 225 estudiantes son seleccionados al azar de los que toman cálculo y se les pregunta si cálculo es su materia favorita. 100 estudiantes responden que el cálculo es su materia favorita. Proporcione un intervalo de confianza del 95 %  para la proporción de todos los estudiantes que toman cálculo y que la consideran su materia favorita.  "
      ],
      "metadata": {
        "id": "EKFbJ6fNSzu3"
      }
    },
    {
      "cell_type": "code",
      "source": [
        "from math import sqrt\n",
        "from scipy import stats\n",
        "\n",
        "#Datos\n",
        "n = 225           #tamaño de muestra\n",
        "x = 100           #estudiantes que respondieron que cálculo es su favorita\n",
        "phat = x / n      #proporción muestral\n",
        "\n",
        "#Nivel de confianza\n",
        "conf = 0.95\n",
        "alpha = 1 - conf\n",
        "z = stats.norm.ppf(1 - alpha/2)  #valor crítico z\n",
        "\n",
        "#Error estándar y margen\n",
        "SE = sqrt(phat*(1 - phat)/n)\n",
        "LI = phat - z*SE\n",
        "LS = phat + z*SE\n",
        "\n",
        "print(f\"p̂ = {phat:.4f}\")\n",
        "print(f\"z = {z:.4f}\")\n",
        "print(f\"SE = {SE:.4f}\")\n",
        "print(f\"IC95%: ({LI:.4f}, {LS:.4f})\")"
      ],
      "metadata": {
        "colab": {
          "base_uri": "https://localhost:8080/"
        },
        "id": "RmYdOy67SP9z",
        "outputId": "533ba61c-497f-4788-caf8-e6fcae194346"
      },
      "execution_count": 27,
      "outputs": [
        {
          "output_type": "stream",
          "name": "stdout",
          "text": [
            "p̂ = 0.4444\n",
            "z = 1.9600\n",
            "SE = 0.0331\n",
            "IC95%: (0.3795, 0.5094)\n"
          ]
        }
      ]
    },
    {
      "cell_type": "markdown",
      "source": [
        "**Conclusión ejercicio 1:**\n",
        "\n",
        "La proporción muestral de estudiantes que consideran el cálculo como su materia favorita es:\n",
        "\n",
        "$$\n",
        "\\hat{p} = \\frac{100}{225} = 0.4444 \\; (44.44\\%).\n",
        "$$\n",
        "\n",
        "Con un nivel de confianza del **95 %**, el intervalo estimado para la proporción poblacional es:\n",
        "\n",
        "$$\n",
        "IC_{95\\%} = (0.3795,\\; 0.5094)\n",
        "$$\n",
        "\n",
        "Esto significa que, con un **95 % de confianza**, podemos afirmar que la verdadera proporción de todos los estudiantes que toman cálculo y lo consideran su materia favorita se encuentra entre **37.95 % y 50.94 %**.\n",
        "\n",
        "En otras palabras, aunque en la muestra el \\(44\\%\\) dijo que cálculo es su materia favorita, la proporción real de toda la población que toma cálculo podría estar entre aproximadamente **38 % y 51 %**.\n",
        "\n",
        "El intervalo no es demasiado amplio, lo que indica que la muestra de \\(n=225\\) estudiantes proporciona una estimación razonablemente precisa de la proporción poblacional."
      ],
      "metadata": {
        "id": "oLwApKSWS3XV"
      }
    },
    {
      "cell_type": "markdown",
      "source": [
        "**Ejercicio 2** Los datos $1.2,\\ 2.1,\\ 2.3,\\ 1.9,\\ 3.0,\\ 1.5,\\ 2.8,\\ 2.4,\\ 1.7,\\ 2.6,\\ 2.0,\\ 1.8,\\ 3.1,\\ 2.2,\\ 2.5$ se toman a partir de una distribución normal $N(\\mu,\\sigma^2)$ con $\\mu$ desconocida.\n",
        "\n",
        "**a)** Encuentra un intervalo de confianza al nivel de $90\\%$ para $\\mu$, dado que $\\sigma =2$.\n",
        "\n",
        "**b)** Encuentra un intervalo de confianza al nivel de $90\\%$ para $\\mu$.\n",
        "\n",
        "**c)** Encuentra un intervalo de confianza al nivel de $90\\%$ para $\\sigma^2$."
      ],
      "metadata": {
        "id": "w068Nn4qS6a7"
      }
    },
    {
      "cell_type": "code",
      "source": [
        "import statistics as st\n",
        "from math import sqrt\n",
        "from scipy import stats\n",
        "\n",
        "datos = [1.2,2.1,2.3,1.9,3.0,1.5,2.8,2.4,1.7,2.6,2.0,1.8,3.1,2.2,2.5]\n",
        "\n",
        "n = len(datos)\n",
        "xbar = st.mean(datos)\n",
        "sigma = 2      # desviación poblacional conocida\n",
        "conf = 0.90\n",
        "alpha = 1 - conf\n",
        "z = stats.norm.ppf(1 - alpha/2)\n",
        "\n",
        "SE = sigma / sqrt(n)\n",
        "LI = xbar - z*SE\n",
        "LS = xbar + z*SE\n",
        "\n",
        "print(\"Ejercicio 2(a) — IC90% para μ con σ=2\")\n",
        "print(f\"Media muestral = {xbar:.4f}\")\n",
        "print(f\"z = {z:.4f}\")\n",
        "print(f\"SE = {SE:.4f}\")\n",
        "print(f\"IC90%: ({LI:.4f}, {LS:.4f})\")"
      ],
      "metadata": {
        "colab": {
          "base_uri": "https://localhost:8080/"
        },
        "id": "kMoY6zfMS2zp",
        "outputId": "b0b928aa-05a8-4e8f-d3fe-63ed0b649daa"
      },
      "execution_count": 28,
      "outputs": [
        {
          "output_type": "stream",
          "name": "stdout",
          "text": [
            "Ejercicio 2(a) — IC90% para μ con σ=2\n",
            "Media muestral = 2.2067\n",
            "z = 1.6449\n",
            "SE = 0.5164\n",
            "IC90%: (1.3573, 3.0561)\n"
          ]
        }
      ]
    },
    {
      "cell_type": "code",
      "source": [
        "s = st.pstdev(datos) * sqrt(n/(n-1))  # desviación muestral (ddof=1)\n",
        "df = n - 1\n",
        "t = stats.t.ppf(1 - alpha/2, df)\n",
        "\n",
        "SE = s / sqrt(n)\n",
        "LI = xbar - t*SE\n",
        "LS = xbar + t*SE\n",
        "\n",
        "print(\"Ejercicio 2(b) — IC90% para μ con σ desconocida (t)\")\n",
        "print(f\"s = {s:.4f}\")\n",
        "print(f\"t = {t:.4f}\")\n",
        "print(f\"SE = {SE:.4f}\")\n",
        "print(f\"IC90%: ({LI:.4f}, {LS:.4f})\")\n"
      ],
      "metadata": {
        "colab": {
          "base_uri": "https://localhost:8080/"
        },
        "id": "Lqe4nR_TTB0P",
        "outputId": "9d5b64cf-9e52-444c-d605-9063597a46ac"
      },
      "execution_count": 29,
      "outputs": [
        {
          "output_type": "stream",
          "name": "stdout",
          "text": [
            "Ejercicio 2(b) — IC90% para μ con σ desconocida (t)\n",
            "s = 0.5444\n",
            "t = 1.7613\n",
            "SE = 0.1406\n",
            "IC90%: (1.9591, 2.4542)\n"
          ]
        }
      ]
    },
    {
      "cell_type": "code",
      "source": [
        "S2 = s**2\n",
        "chi2_inf = stats.chi2.ppf(alpha/2, df)\n",
        "chi2_sup = stats.chi2.ppf(1 - alpha/2, df)\n",
        "\n",
        "LI = df*S2/chi2_sup\n",
        "LS = df*S2/chi2_inf\n",
        "\n",
        "print(\"Ejercicio 2(c) — IC90% para σ²\")\n",
        "print(f\"S² = {S2:.4f}\")\n",
        "print(f\"χ²_inf = {chi2_inf:.4f}, χ²_sup = {chi2_sup:.4f}\")\n",
        "print(f\"IC90%: ({LI:.4f}, {LS:.4f})\")"
      ],
      "metadata": {
        "colab": {
          "base_uri": "https://localhost:8080/"
        },
        "id": "i2CNvnpKTCM4",
        "outputId": "58806e02-f782-4ba0-8b2b-5e20d3878fe6"
      },
      "execution_count": 30,
      "outputs": [
        {
          "output_type": "stream",
          "name": "stdout",
          "text": [
            "Ejercicio 2(c) — IC90% para σ²\n",
            "S² = 0.2964\n",
            "χ²_inf = 6.5706, χ²_sup = 23.6848\n",
            "IC90%: (0.1752, 0.6315)\n"
          ]
        }
      ]
    },
    {
      "cell_type": "markdown",
      "source": [
        "**Conclusión ejercicio 2:**\n",
        "\n",
        "\n",
        "Se tomaron los datos:\n",
        "\n",
        "$$\n",
        "1.2,\\,2.1,\\,2.3,\\,1.9,\\,3.0,\\,1.5,\\,2.8,\\,2.4,\\,1.7,\\,2.6,\\,2.0,\\,1.8,\\,3.1,\\,2.2,\\,2.5\n",
        "$$\n",
        "\n",
        "La media muestral resultó ser:\n",
        "\n",
        "$$\n",
        "\\bar{x} = 2.2067\n",
        "$$\n",
        "\n",
        "y la desviación estándar muestral:\n",
        "\n",
        "$$\n",
        "s = 0.5444\n",
        "$$\n",
        "\n",
        "\n",
        "\n",
        "a) Intervalo de confianza del 90% para $\\mu$ con $\\sigma = 2$ conocida\n",
        "\n",
        "$$\n",
        "IC_{90\\%} = (1.3573,\\; 3.0561)\n",
        "$$\n",
        "\n",
        "b) Intervalo de confianza del 90% para $\\mu$ con $\\sigma$ desconocida (uso de t)\n",
        "\n",
        "$$\n",
        "IC_{90\\%} = (1.9591,\\; 2.4542)\n",
        "$$\n",
        "\n",
        "c) Intervalo de confianza del 90% para $\\sigma^{2}$\n",
        "\n",
        "$$\n",
        "IC_{90\\%} = (0.1752,\\; 0.6315)\n",
        "$$\n",
        "\n",
        "\n",
        "\n",
        "**Interpretación:**  \n",
        "\n",
        "- Cuando la desviación estándar poblacional es **conocida** y se usa la distribución normal, el intervalo (a) es **más amplio** porque se está usando $\\sigma = 2$ que es mayor a la desviación muestral observada.  \n",
        "- Cuando $\\sigma$ es **desconocida** y usamos la distribución t (b), el intervalo se estrecha un poco porque la variabilidad muestral resultó menor ($s=0.54$).  \n",
        "- Para la **varianza** (c), el intervalo muestra que la dispersión verdadera puede estar entre aproximadamente $0.18$ y $0.63$, reflejando la incertidumbre sobre la variabilidad de la población.\n",
        "\n",
        "En general, los intervalos confirman que la media poblacional $\\mu$ se estima alrededor de $2.21$ con un margen moderado, y que la varianza $\\sigma^2$ podría variar pero permanece en valores relativamente pequeños, indicando poca dispersión en los datos.\n"
      ],
      "metadata": {
        "id": "FrBPJNW_TE-v"
      }
    },
    {
      "cell_type": "markdown",
      "source": [
        "**Ejercicio 4** En un estudio de préstamos a estudiantes, el Departamento de Educación informó que los beneficiarios del fondo Stafford Loan deberían un promedio de \\$12,658 al recibirse (*USA Today*, 5 de abril de 1995). Suponga que este promedio de deuda se basa en una muestra de 480 préstamos a estudiantes y que la desviación estándar de la población de las deudas al recibirse es \\$2,000.\n",
        "\n",
        "**a)** Determina un estimado de confianza del **90%** del promedio poblacional de la deuda.\n",
        "\n",
        "**b)** Determina un estimado de confianza del **95%** del promedio poblacional de la deuda.\n",
        "\n",
        "**c)** Determina un estimado de confianza del **99%** del promedio poblacional de la deuda.\n",
        "\n",
        "**d)** Describe lo que sucede con el **ancho del intervalo de confianza** a medida que se **aumenta el nivel de confianza**. ¿Parece razonable? Explica tu respuesta."
      ],
      "metadata": {
        "id": "YQmnHJnQTKRq"
      }
    },
    {
      "cell_type": "code",
      "source": [
        "from math import sqrt\n",
        "from scipy import stats\n",
        "\n",
        "# Datos\n",
        "xbar = 12658     # media muestral\n",
        "sigma = 2000     # desviación estándar poblacional conocida\n",
        "n = 480\n",
        "SE = sigma / sqrt(n)\n",
        "\n",
        "def imprimir_ic(conf):\n",
        "    alpha = 1 - conf\n",
        "    z = stats.norm.ppf(1 - alpha/2)\n",
        "    LI = xbar - z*SE\n",
        "    LS = xbar + z*SE\n",
        "    print(f\"Nivel de confianza: {int(conf*100)}%\")\n",
        "    print(f\"  z = {z:.3f}\")\n",
        "    print(f\"  Error estándar (σ/√n) = {SE:.3f}\")\n",
        "    print(f\"  Intervalo de confianza: [{LI:,.2f} , {LS:,.2f}]\")\n",
        "    print(f\"  Ancho del intervalo: {LS - LI:,.2f}\\n\")\n",
        "    return LS - LI\n",
        "\n",
        "\n",
        "ancho_90 = imprimir_ic(0.90)\n",
        "ancho_95 = imprimir_ic(0.95)\n",
        "ancho_99 = imprimir_ic(0.99)"
      ],
      "metadata": {
        "colab": {
          "base_uri": "https://localhost:8080/"
        },
        "id": "sCzJd-1mTEH_",
        "outputId": "a0c8867f-713a-4a22-89c6-8b38f4fcb26d"
      },
      "execution_count": 31,
      "outputs": [
        {
          "output_type": "stream",
          "name": "stdout",
          "text": [
            "Nivel de confianza: 90%\n",
            "  z = 1.645\n",
            "  Error estándar (σ/√n) = 91.287\n",
            "  Intervalo de confianza: [12,507.85 , 12,808.15]\n",
            "  Ancho del intervalo: 300.31\n",
            "\n",
            "Nivel de confianza: 95%\n",
            "  z = 1.960\n",
            "  Error estándar (σ/√n) = 91.287\n",
            "  Intervalo de confianza: [12,479.08 , 12,836.92]\n",
            "  Ancho del intervalo: 357.84\n",
            "\n",
            "Nivel de confianza: 99%\n",
            "  z = 2.576\n",
            "  Error estándar (σ/√n) = 91.287\n",
            "  Intervalo de confianza: [12,422.86 , 12,893.14]\n",
            "  Ancho del intervalo: 470.28\n",
            "\n"
          ]
        }
      ]
    },
    {
      "cell_type": "markdown",
      "source": [
        "Respuesta inciso d)\n",
        "\n",
        "d) Análisis del ancho de los intervalos\n",
        "\n",
        "- Ancho 90 %: $12,808.15 - 12,507.85 = 300.31$\n",
        "- Ancho 95 %: $12,836.92 - 12,479.08 = 357.84$\n",
        "- Ancho 99 %: $12,893.14 - 12,422.86 = 470.28$\n",
        "\n",
        "Se observa que **el ancho del intervalo aumenta conforme crece el nivel de confianza**:  \n",
        "90 % < 95 % < 99 %.  \n",
        "\n",
        "Esto es **razonable**, porque al exigir mayor certeza (por ejemplo, 99 % en lugar de 90 %), necesitamos abarcar un rango más amplio para asegurar que el verdadero promedio poblacional esté contenido dentro del intervalo.\n",
        "\n",
        "**Conclusiones ejercicio 4:**\n",
        "- **a) IC 90 %**  \n",
        "  El intervalo $[12{,}507.85 ,\\; 12{,}808.15]$ significa que, con un **90 % de confianza**, el **promedio real** de la deuda que deben los estudiantes al recibir el préstamo está entre **12,507.85 y 12,808.15 dólares**.  \n",
        "  Es decir, si repitiéramos muchas veces el muestreo y el cálculo, el 90 % de esos intervalos contendrían el verdadero promedio poblacional.\n",
        "\n",
        "- **b) IC 95 %**  \n",
        "  El intervalo $[12{,}479.08 ,\\; 12{,}836.92]$ indica que, con **95 % de confianza**, el promedio poblacional se encuentra entre **12,479.08 y 12,836.92 dólares**.  \n",
        "  Al aumentar el nivel de confianza de 90 % a 95 %, el intervalo se hizo **más amplio** para asegurar mayor probabilidad de contener el verdadero promedio.\n",
        "\n",
        "- **c) IC 99 %**  \n",
        "  El intervalo $[12{,}422.86 ,\\; 12{,}893.14]$ muestra que, con **99 % de confianza**, el promedio poblacional podría estar entre **12,422.86 y 12,893.14 dólares**.  \n",
        "  Al exigir un nivel de confianza aún mayor, el intervalo se vuelve todavía **más ancho** para garantizar que el valor real esté incluido con más certeza.\n",
        "\n",
        "- **d) Análisis del ancho de los intervalos**  \n",
        "  El ancho crece al aumentar el nivel de confianza:  \n",
        "  $300.31$ (90 %) < $357.84$ (95 %) < $470.28$ (99 %).  \n",
        "  Esto es **razonable**, porque para estar más seguros de que el verdadero promedio está dentro del intervalo, necesitamos cubrir un rango más amplio. A mayor certeza, mayor margen de seguridad.\n"
      ],
      "metadata": {
        "id": "6K7AP0o9TSuU"
      }
    }
  ]
}