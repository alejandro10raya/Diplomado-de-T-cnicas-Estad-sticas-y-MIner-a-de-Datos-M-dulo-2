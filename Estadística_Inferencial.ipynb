{
  "nbformat": 4,
  "nbformat_minor": 0,
  "metadata": {
    "colab": {
      "provenance": [],
      "toc_visible": true
    },
    "kernelspec": {
      "name": "python3",
      "display_name": "Python 3"
    },
    "language_info": {
      "name": "python"
    }
  },
  "cells": [
    {
      "cell_type": "markdown",
      "source": [
        "**Raya Cuellar Alejandro**"
      ],
      "metadata": {
        "id": "GXaDwz_NcGWC"
      }
    },
    {
      "cell_type": "markdown",
      "source": [
        "# 3. Estadística Inferencial\n",
        "\n"
      ],
      "metadata": {
        "id": "SQlEjs40eCbW"
      }
    },
    {
      "cell_type": "markdown",
      "source": [
        "## **Introducción:**\n",
        "\n",
        "La **estadística inferencial** se encarga de realizar generalizaciones y tomar decisiones sobre una población a partir de la información contenida en una muestra.  \n",
        "Mientras la estadística descriptiva resume y organiza datos, la inferencia estadística busca **estimar parámetros poblacionales** y **evaluar la incertidumbre asociada** a estas estimaciones.\n",
        "\n",
        "En esta sección se estudiarán dos conceptos clave:\n",
        "\n",
        "1. **Estimadores y sus propiedades**  \n",
        "   Un **estimador** es una función de la muestra que se utiliza para aproximar un parámetro desconocido de la población (por ejemplo, la media $\\mu$, la varianza $\\sigma^2$ o una proporción $p$).  \n",
        "   Para evaluar la calidad de un estimador se analizan varias propiedades fundamentales:\n",
        "\n",
        "   - **Inesgadez:**  \n",
        "     Un estimador $\\hat{\\theta}$ es insesgado si su esperanza es igual al parámetro verdadero:  \n",
        "     $$\\mathbb{E}[\\hat{\\theta}] = \\theta.$$\n",
        "\n",
        "   - **Consistencia:**  \n",
        "     Un estimador es consistente si, a medida que el tamaño muestral $n$ crece, $\\hat{\\theta}$ converge en probabilidad al verdadero valor $\\theta$.\n",
        "\n",
        "   - **Eficiencia:**  \n",
        "     Entre dos estimadores insesgados de un mismo parámetro, se considera más eficiente el que tiene **menor varianza**.\n",
        "\n",
        "   Además, se verán **métodos de obtención de estimadores**:  \n",
        "   - **Método de momentos:** iguala momentos teóricos y muestrales para deducir el estimador.  \n",
        "   - **Máxima verosimilitud (EMV):** selecciona el valor de $\\theta$ que maximiza la probabilidad (verosimilitud) de observar los datos.\n",
        "\n",
        "2. **Intervalos de confianza**  \n",
        "   No basta con un único valor estimado; es importante cuantificar la **incertidumbre**.  \n",
        "   Un **intervalo de confianza** para un parámetro $\\theta$ es un rango aleatorio construido a partir de la muestra, que con un nivel de confianza $1-\\alpha$ contiene al verdadero parámetro con alta probabilidad.  \n",
        "   En general, se escribe:\n",
        "   $$\n",
        "   IC_{1-\\alpha}(\\theta) = \\big[\\hat{\\theta}_{\\mathrm{inf}},\\; \\hat{\\theta}_{\\mathrm{sup}}\\big],\n",
        "   $$\n",
        "   donde el nivel de confianza típico es $95\\%$ ($\\alpha=0.05$).\n",
        "\n",
        "Estos conceptos son la base para **construir estimaciones puntuales y por intervalo**, además de permitir decisiones estadísticas rigurosas como la comparación de modelos o la validación de hipótesis."
      ],
      "metadata": {
        "id": "iiljIT0gYdFw"
      }
    },
    {
      "cell_type": "markdown",
      "source": [
        "Queremos **hacer inferencias** sobre una *población* a partir de una **muestra aleatoria y representativa**.\n",
        "\n",
        "- **Población**: conjunto total de elementos de interés. Tiene parámetros desconocidos como  \n",
        "  $ \\mu $ (media poblacional) y $ \\sigma^2 $ (varianza poblacional).\n",
        "- **Muestra aleatoria** $ (X_1,\\dots,X_n) $: subconjunto de la población que se selecciona al azar y debe ser representativo.\n",
        "- A partir de la muestra se construyen **estadísticos** para aproximar parámetros.\n"
      ],
      "metadata": {
        "id": "AC_qybHmenx7"
      }
    },
    {
      "cell_type": "markdown",
      "source": [
        "## Estimadores\n",
        "\n",
        "Un **estimador** es una función de la muestra usada para aproximar un parámetro poblacional desconocido:\n",
        "\n",
        "En inferencia estadística, **un estimador** es una *regla* o función que, a partir de los datos muestrales, produce un valor numérico que intenta aproximar un **parámetro desconocido** de la población.\n",
        "\n",
        "- Denotemos la muestra aleatoria por  \n",
        "  $$X_1, X_2, \\dots, X_n \\overset{iid}{\\sim} F_\\theta$$  \n",
        "  donde $F_\\theta$ es la distribución poblacional con parámetro (o vector de parámetros) $\\theta$.\n",
        "- Un **estimador** es cualquier función medible de los datos:  \n",
        "  $$\\hat\\theta = T(X_1,\\dots,X_n).$$\n",
        "\n",
        "El resultado que obtenemos al aplicar el estimador a una muestra concreta se llama **estimación** o **valor estimado** y se suele escribir $\\hat\\theta(x_1,\\dots,x_n)$.\n",
        "\n",
        "### Importancia\n",
        "\n",
        "- Los parámetros $\\theta$ (como $\\mu$, $\\sigma^2$, $p$, $\\beta$) son *desconocidos* y no podemos observarlos directamente.\n",
        "- Por eso usamos **estadísticos** de la muestra (funciones de los datos) para aproximarlos y así poder hacer inferencias, construir intervalos de confianza y realizar pruebas de hipótesis.\n",
        "\n",
        "\n",
        "Ejemplo simple (media de dos observaciones):\n",
        "\n",
        "$$\n",
        "T(X_1,X_2)=\\frac{X_1+X_2}{2}.\n",
        "$$\n"
      ],
      "metadata": {
        "id": "Al1SNt0rkl8k"
      }
    },
    {
      "cell_type": "markdown",
      "source": [
        "## Estimadores y sus propiedades\n",
        "\n",
        "- Estimador: Metodo de momentos y EMV\n",
        "- Insesgado\n",
        "- Consistencia\n",
        "- Eficiencia\n",
        "\n",
        "Cuando se proponemos un estimador $\\hat\\theta = T(X_1,\\dots,X_n)$ para aproximar un parámetro poblacional $\\theta$, deseamos que cumpla ciertas propiedades que garantizan **calidad y estabilidad** en la inferencia.\n",
        "\n",
        "\n"
      ],
      "metadata": {
        "id": "hDJhnFn1eIer"
      }
    },
    {
      "cell_type": "markdown",
      "source": [
        "#### 1. Estimador insesgado\n",
        "\n",
        "Un estimador es **insesgado** si, en promedio, coincide con el verdadero parámetro:\n",
        "\n",
        "$$\n",
        "\\mathbb{E}[\\hat\\theta] = \\theta.\n",
        "$$\n",
        "\n",
        "- Intuitivamente: si tomáramos **muchas muestras** y calculáramos el estimador cada vez, el promedio de esos valores se acercaría al valor real de $\\theta$.\n",
        "- Ejemplo:  \n",
        "  La media muestral $\\bar X = \\tfrac{1}{n}\\sum X_i$ es insesgada para la media poblacional $\\mu$, pues\n",
        "  $$\n",
        "  \\mathbb{E}[\\bar X] = \\mu.\n",
        "  $$\n",
        "- Contraejemplo:  \n",
        "  La varianza muestral con divisor $n$,\n",
        "  $$\n",
        "  s_n^2 = \\tfrac{1}{n}\\sum (X_i - \\bar X)^2,\n",
        "  $$\n",
        "  subestima la varianza real; su esperanza es $\\tfrac{n-1}{n}\\sigma^2$.  \n",
        "  Por eso se usa el divisor $n-1$ para obtener el estimador insesgado $S^2$.\n",
        "\n",
        "\n",
        "\n"
      ],
      "metadata": {
        "id": "9iJx0G03JQuY"
      }
    },
    {
      "cell_type": "markdown",
      "source": [
        "#### 2. Consistencia\n",
        "\n",
        "Un estimador es **consistente** si se **acerca al verdadero parámetro** cuando el tamaño de la muestra crece:\n",
        "\n",
        "$$\n",
        "\\hat\\theta_n \\xrightarrow{P} \\theta \\quad \\text{cuando } n \\to \\infty.\n",
        "$$\n",
        "\n",
        "- Intuición: con más datos, el error de estimación disminuye y el estimador “se concentra” alrededor de $\\theta$.\n",
        "- Formalmente: para todo $\\varepsilon>0$,  \n",
        "  $$\n",
        "  P (|\\hat\\theta_n - \\theta|>\\varepsilon) \\to 0 \\quad \\text{al crecer } n.\n",
        "  $$\n",
        "- Ejemplo: la media muestral $\\bar X$ es consistente para $\\mu$ por la **Ley de los Grandes Números**.\n",
        "\n",
        "> Nota: un estimador puede ser sesgado pero consistente, siempre que el sesgo tienda a cero cuando $n\\to\\infty$ (por ejemplo, la varianza MLE con divisor $n$).\n",
        "\n",
        "\n"
      ],
      "metadata": {
        "id": "HXZTjL4cJU2v"
      }
    },
    {
      "cell_type": "markdown",
      "source": [
        "#### 3. Eficiencia\n",
        "\n",
        "Entre los estimadores **insesgados**, decimos que uno es **más eficiente** si tiene menor varianza (o menor error cuadrático medio):\n",
        "\n",
        "$$\n",
        "\\mathrm{MSE}(\\hat\\theta) = \\mathrm{Var}(\\hat\\theta) + \\mathrm{Sesgo}(\\hat\\theta)^2.\n",
        "$$\n",
        "\n",
        "- **Cota de Cramér–Rao (CCR)**: establece un límite inferior para la varianza de cualquier estimador insesgado.  \n",
        "  Si un estimador alcanza la CCR, se considera **eficiente**.\n",
        "- Ejemplo: en una normal $N(\\mu,\\sigma^2)$ con $\\sigma^2$ conocida, la media muestral $\\bar X$ es eficiente para estimar $\\mu$ porque logra la varianza mínima posible $ \\sigma^2/n $.\n",
        "\n",
        "\n"
      ],
      "metadata": {
        "id": "miAJxK-eJX8n"
      }
    },
    {
      "cell_type": "markdown",
      "source": [
        "#### 4. Suficiencia\n",
        "\n",
        "Un estadístico $T(X_1,\\dots,X_n)$ es **suficiente** para $\\theta$ si **resume toda la información de la muestra sobre ese parámetro**.\n",
        "\n",
        "- Criterio de factorización (Neyman–Fisher):  \n",
        "  $T$ es suficiente si la función de verosimilitud $L(\\theta; x)$ puede factorizarse como\n",
        "  $$\n",
        "  L(\\theta; x) = g(T(x),\\theta)\\,h(x),\n",
        "  $$\n",
        "  donde $h$ no depende de $\\theta$.\n",
        "- Ejemplo:  \n",
        "  En una normal $N(\\mu,\\sigma^2)$ con $\\sigma^2$ conocida, la media $\\bar X$ es suficiente para $\\mu$.\n",
        "\n",
        "\n"
      ],
      "metadata": {
        "id": "bYYufDeuJd8H"
      }
    },
    {
      "cell_type": "markdown",
      "source": [
        "#### 5. Completitud\n",
        "\n",
        "Un estadístico suficiente $T$ es **completo** si no existe ninguna función no trivial $g(T)$ tal que su esperanza sea cero para todo valor de $\\theta$:\n",
        "\n",
        "$$\n",
        "\\mathbb{E}_\\theta[g(T)] = 0 \\quad \\forall \\theta \\quad \\Longrightarrow \\quad g(T)=0\\ \\text{c.s.}\n",
        "$$\n",
        "\n",
        "- La completitud es una propiedad técnica importante para demostrar que un estimador es óptimo.\n",
        "\n",
        "\n",
        "\n"
      ],
      "metadata": {
        "id": "8aOTF_acJggg"
      }
    },
    {
      "cell_type": "markdown",
      "source": [
        "#### 6. UMVUE (Insesgado de Mínima Varianza)\n",
        "\n",
        "Si $T$ es **suficiente y completo** y $\\tilde\\theta$ es insesgado, entonces la función condicional\n",
        "$$\n",
        "\\hat\\theta = \\mathbb{E}[\\tilde\\theta \\mid T]\n",
        "$$\n",
        "es el **UMVUE**: *Unbiased Minimum Variance Estimator*, el insesgado con menor varianza posible.\n",
        "\n",
        "\n",
        " **Resumen:**  \n",
        " - Insesgadez = promedio correcto.  \n",
        " - Consistencia = mejora con más datos.  \n",
        " - Eficiencia = varianza mínima.  \n",
        " - Suficiencia y completitud = toda la información y óptima dentro de insesgados.  \n",
        " - UMVUE = mejor estimador insesgado posible.\n",
        "\n"
      ],
      "metadata": {
        "id": "wt4_X0uBJivf"
      }
    },
    {
      "cell_type": "markdown",
      "source": [
        "## Metodos para construir estimadores\n",
        "\n",
        "Existen varios procedimientos sistemáticos para obtener estimadores de parámetros poblacionales a partir de datos muestrales.  \n",
        "Los más usados son:\n",
        "\n",
        "\n"
      ],
      "metadata": {
        "id": "ofdHrvEsnLGq"
      }
    },
    {
      "cell_type": "markdown",
      "source": [
        "### 1. Método de Momentos (MoM)\n",
        "\n",
        "**Idea:**  \n",
        "Se igualan los **momentos teóricos** de la distribución poblacional con los **momentos muestrales** observados.\n",
        "\n",
        "- Momento teórico $k$-ésimo:  \n",
        "  $$ m_k(\\theta)=\\mathbb{E}[X^k]. $$\n",
        "- Momento muestral $k$-ésimo:  \n",
        "  $$ \\hat m_k=\\frac{1}{n}\\sum_{i=1}^{n}X_i^k. $$\n",
        "\n",
        "**Procedimiento:**\n",
        "\n",
        "1. Calcula los primeros $p$ momentos teóricos como funciones de los parámetros $ \\theta=(\\theta_1,\\dots,\\theta_p) $.\n",
        "2. Sustituye cada $ m_k(\\theta) $ por el correspondiente $ \\hat m_k $.\n",
        "3. Resuelve el sistema de $p$ ecuaciones para obtener $\\hat\\theta$.\n",
        "\n",
        "**Ejemplo:** Normal $N(\\mu,\\sigma^2)$\n",
        "\n",
        "- Momentos teóricos: $m_1=\\mu,\\quad m_2=\\mu^2+\\sigma^2$.\n",
        "- Momentos muestrales: $\\hat m_1=\\bar X,\\quad \\hat m_2=\\overline{X^2}$.\n",
        "\n",
        "Resolviendo:\n",
        "$$\n",
        "\\hat\\mu_{\\text{MoM}} = \\bar X, \\qquad\n",
        "\\hat\\sigma^2_{\\text{MoM}} = \\overline{X^2} - \\bar X^2.\n",
        "$$\n",
        "\n",
        "\n",
        "\n",
        "**Ejemplo**: Método de Momentos para una distribución Gamma\n",
        "\n",
        "para $X \\sim \\mathrm{Gamma}(\\alpha,\\beta)$\n",
        "\n",
        "Queremos estimar los parámetros $\\alpha$ y $\\beta$ de una distribución Gamma a partir de una muestra aleatoria\n",
        "$$\n",
        "X_1,\\dots,X_n \\overset{iid}{\\sim} \\mathrm{Gamma}(\\alpha,\\beta).\n",
        "$$\n",
        "\n",
        "Sabemos que para una Gamma($\\alpha,\\beta$):\n",
        "\n",
        "$$\n",
        "\\mathbb{E}[X] = \\frac{\\alpha}{\\beta}, \\qquad\n",
        "\\mathrm{Var}(X) = \\frac{\\alpha}{\\beta^2}.\n",
        "$$\n",
        "\n",
        "Usando que $\\mathrm{Var}(X)=\\mathbb{E}[X^2]-(\\mathbb{E}[X])^2$, tenemos:\n",
        "\n",
        "$$\n",
        "\\mathbb{E}[X^2] = \\mathrm{Var}(X)+\\big(\\mathbb{E}[X]\\big)^2\n",
        "= \\frac{\\alpha}{\\beta^2}+\\frac{\\alpha^2}{\\beta^2}\n",
        "= \\frac{\\alpha+\\alpha^2}{\\beta^2}.\n",
        "$$\n",
        "\n",
        "\n",
        "\n",
        "1. Igualamos momentos teóricos con momentos muestrales\n",
        "\n",
        "- Para la media:\n",
        "$$\n",
        "\\mathbb{E}[X] = \\frac{\\alpha}{\\beta} = \\bar X.\n",
        "$$\n",
        "\n",
        "De aquí:\n",
        "$$\n",
        "\\beta = \\frac{\\alpha}{\\bar X}.\n",
        "$$\n",
        "\n",
        "- Para el segundo momento:\n",
        "$$\n",
        "\\mathbb{E}[X^2] = \\frac{\\alpha+\\alpha^2}{\\beta^2}\n",
        "= \\hat m_2 = \\frac1n\\sum_{i=1}^n X_i^2.\n",
        "$$\n",
        "\n",
        "\n",
        "\n",
        "2. Sustituimos $\\beta = \\alpha/\\bar X$ en la ecuación del segundo momento\n",
        "\n",
        "$$\n",
        "\\hat m_2 = \\frac{\\alpha+\\alpha^2}{(\\alpha/\\bar X)^2}\n",
        "= \\bar X^2\\left(\\frac{1}{\\alpha}+1\\right).\n",
        "$$\n",
        "\n",
        "\n",
        "\n",
        "3. Aislamos $\\alpha$\n",
        "\n",
        "$$\n",
        "\\bar X^2\\left(1+\\frac{1}{\\alpha}\\right)=\\hat m_2\n",
        "\\quad\\Longrightarrow\\quad\n",
        "1+\\frac{1}{\\alpha}=\\frac{\\hat m_2}{\\bar X^2}\n",
        "\\quad\\Longrightarrow\\quad\n",
        "\\frac{1}{\\alpha}=\\frac{\\hat m_2}{\\bar X^2}-1\n",
        "\\quad\\Longrightarrow\\quad\n",
        "\\hat\\alpha = \\frac{\\bar X^2}{\\hat m_2-\\bar X^2}.\n",
        "$$\n",
        "\n",
        "\n",
        "\n",
        "4. Obtenemos $\\hat\\beta$\n",
        "\n",
        "Con $\\beta=\\alpha/\\bar X$:\n",
        "\n",
        "$$\n",
        "\\hat\\beta=\\frac{\\hat\\alpha}{\\bar X}\n",
        "=\\frac{\\bar X^2}{\\hat m_2-\\bar X^2}\\,\\frac{1}{\\bar X}\n",
        "=\\frac{\\bar X}{\\hat m_2-\\bar X^2}.\n",
        "$$\n"
      ],
      "metadata": {
        "id": "Q0BYux0JIoKw"
      }
    },
    {
      "cell_type": "markdown",
      "source": [
        "### 2. Máxima Verosimilitud (MLE / EMV)\n",
        "\n",
        "**Idea:**  \n",
        "Elegir el parámetro que **maximiza la verosimilitud** de los datos observados.\n",
        "\n",
        "- Verosimilitud para una muestra $x_1,\\dots,x_n$ con densidad $f_\\theta(x)$:\n",
        "  $$\n",
        "  L(\\theta)=\\prod_{i=1}^{n} f_\\theta(x_i).\n",
        "  $$\n",
        "- Suele ser más sencillo trabajar con la **log-verosimilitud**:\n",
        "  $$\n",
        "  \\ell(\\theta)=\\log L(\\theta)=\\sum_{i=1}^{n} \\log f_\\theta(x_i).\n",
        "  $$\n",
        "\n",
        "**Procedimiento:**\n",
        "\n",
        "1. Escribe $\\ell(\\theta)$.\n",
        "2. Deriva y resuelve $ \\frac{\\partial \\ell}{\\partial \\theta}=0 $ (condiciones de primer orden).\n",
        "3. Comprueba que sea un máximo (segundo orden o comportamiento de la función).\n",
        "\n",
        "**Ejemplo:** Normal $N(\\mu,\\sigma^2)$ (suponiendo $\\sigma^2$ conocida)\n",
        "\n",
        "$$\n",
        "\\ell(\\mu)=-\\frac{n}{2}\\log(2\\pi\\sigma^2)-\\frac{1}{2\\sigma^2}\\sum (x_i-\\mu)^2.\n",
        "$$\n",
        "\n",
        "Derivando:\n",
        "$$\n",
        "\\frac{\\partial\\ell}{\\partial\\mu}=\\frac{1}{\\sigma^2}\\sum(x_i-\\mu)=0\n",
        "\\quad\\Rightarrow\\quad\n",
        "\\hat\\mu_{\\text{MLE}}=\\bar X.\n",
        "$$\n",
        "\n",
        "Si $\\sigma^2$ es desconocida:\n",
        "$$\n",
        "\\hat\\sigma^2_{\\text{MLE}}=\\frac{1}{n}\\sum (X_i-\\bar X)^2.\n",
        "$$\n",
        "\n",
        "> Propiedades: bajo condiciones regulares, los MLE son consistentes, asintóticamente normales y asintóticamente eficientes.\n",
        "\n",
        "\n",
        "\n",
        "\n",
        "**Ejemplo:** Estimador de Máxima Verosimilitud para $p$ en una Bernoulli\n",
        "\n",
        "Sea\n",
        "$$\n",
        "X_1,\\dots,X_n \\ \\text{i.i.d.} \\ \\sim \\mathrm{Bernoulli}(p),\n",
        "$$\n",
        "donde cada $X_i\\in\\{0,1\\}$ con\n",
        "$$\n",
        "f(x_i;p)=p^{x_i}(1-p)^{1-x_i}.\n",
        "$$\n",
        "\n",
        "Queremos encontrar el estimador de máxima verosimilitud $\\hat p$.\n",
        "\n",
        "1. Función de verosimilitud\n",
        "\n",
        "Por independencia:\n",
        "$$\n",
        "L(x_1,\\dots,x_n;p)=\\prod_{i=1}^{n}f(x_i;p)\n",
        "= \\prod_{i=1}^{n}p^{x_i}(1-p)^{1-x_i}\n",
        "= p^{\\sum_{i=1}^n x_i}\\,(1-p)^{\\,n-\\sum_{i=1}^n x_i}.\n",
        "$$\n",
        "\n",
        "2. Log-verosimilitud\n",
        "\n",
        "$$\n",
        "\\ell(p)=\\ln L(p)\n",
        "= \\sum_{i=1}^n x_i\\ln p + \\big(n-\\sum_{i=1}^n x_i\\big)\\ln(1-p).\n",
        "$$\n",
        "\n",
        "3. Derivada respecto a $p$ y condición de primer orden\n",
        "\n",
        "$$\n",
        "\\frac{d\\ell}{dp}\n",
        "= \\frac{\\sum x_i}{p}\n",
        "+ \\big(n-\\sum x_i\\big)\\frac{-1}{1-p}\n",
        "= \\frac{\\sum x_i}{p} - \\frac{n-\\sum x_i}{1-p}.\n",
        "$$\n",
        "\n",
        "Igualamos a cero:\n",
        "$$\n",
        "\\frac{\\sum x_i}{p} - \\frac{n-\\sum x_i}{1-p} = 0.\n",
        "$$\n",
        "\n",
        "4. Despeje de $p$\n",
        "\n",
        "Multiplicamos por $p(1-p)$:\n",
        "$$\n",
        "(1-p)\\sum x_i - p\\big(n-\\sum x_i\\big)=0.\n",
        "$$\n",
        "\n",
        "Expandimos:\n",
        "$$\n",
        "\\sum x_i - p\\sum x_i -pn + p\\sum x_i = 0\n",
        "\\quad\\Longrightarrow\\quad\n",
        "\\sum x_i -pn=0\n",
        "\\quad\\Longrightarrow\\quad\n",
        "p=\\frac{\\sum x_i}{n}.\n",
        "$$\n",
        "\n",
        "5. Resultado final\n",
        "\n",
        "El **estimador de máxima verosimilitud** para $p$ es simplemente la **media muestral**:\n",
        "\n",
        "$$\n",
        "{\\hat p = \\bar X = \\frac{1}{n}\\sum_{i=1}^n X_i}.\n",
        "$$\n",
        "\n"
      ],
      "metadata": {
        "id": "7IWBJazEIuz4"
      }
    },
    {
      "cell_type": "markdown",
      "source": [
        "\n",
        "### 3. Método de Mínimos Cuadrados (LS / OLS)\n",
        "\n",
        "Se usa principalmente en **modelos de regresión**.\n",
        "\n",
        "**Idea:**  \n",
        "Elegir los parámetros que minimizan la suma de los cuadrados de los errores (residuos).\n",
        "\n",
        "- Modelo: $Y_i=\\beta_0+\\beta_1X_i+\\varepsilon_i$.\n",
        "- Función objetivo:  \n",
        "  $$\n",
        "  S(\\beta_0,\\beta_1)=\\sum_{i=1}^{n}(Y_i-\\beta_0-\\beta_1X_i)^2.\n",
        "  $$\n",
        "- Estimadores OLS:  \n",
        "  $$\n",
        "  \\hat\\beta_1=\\frac{\\sum(X_i-\\bar X)(Y_i-\\bar Y)}{\\sum(X_i-\\bar X)^2}, \\quad\n",
        "  \\hat\\beta_0=\\bar Y-\\hat\\beta_1\\bar X.\n",
        "  $$\n",
        "\n",
        "OLS es un caso especial de MLE cuando los errores son normales $N(0,\\sigma^2)$.\n",
        "\n"
      ],
      "metadata": {
        "id": "aAKp8Ckeq4RL"
      }
    },
    {
      "cell_type": "markdown",
      "source": [
        "### 4. Otros métodos\n",
        "\n",
        "- **Bayesianos:** combinan información previa (prior) con los datos (likelihood) para obtener la distribución posterior de $\\theta$.\n",
        "- **Método de Cuasi-Verosimilitud / GMM (Generalized Method of Moments):** extensiones del MoM cuando los momentos exceden el número de parámetros.\n",
        "- **Métodos robustos:** minimizan funciones distintas a los cuadrados para resistir outliers (ej. M-estimadores).\n"
      ],
      "metadata": {
        "id": "uE-h9dnTI3eQ"
      }
    },
    {
      "cell_type": "markdown",
      "source": [
        "## Implementación en código"
      ],
      "metadata": {
        "id": "4bjuzQ3mvEgN"
      }
    },
    {
      "cell_type": "markdown",
      "source": [
        "### Estimador Máximo Verosímil\n",
        "\n",
        "Ejemplo 1. Lanzamos una moneda 100 veces, sabiendo que se obtienen 55 soles. Encontrar el EMV para la probabilidad $p$ de obtener sol en un sólo lanzamiento.\n",
        "\n",
        "Si $X$: el número de soles que se obtiene al lanzar una moneda, se tiene que $X\\sim Bin(100,p)$, es decir\n",
        "\n",
        "$$f(55 \\text{soles};p) = \\binom{100}{55}p^{55}(1-p)^{100-55}$$"
      ],
      "metadata": {
        "id": "UO1G2Pdk6E5I"
      }
    },
    {
      "cell_type": "code",
      "source": [
        "from scipy.stats import binom\n",
        "import numpy as np\n",
        "import sympy # Para el calculo simbólico y algebraico\n",
        "from sympy.abc import x # importa la variable simbólica x"
      ],
      "metadata": {
        "id": "T81iwCIWvEJF"
      },
      "execution_count": null,
      "outputs": []
    },
    {
      "cell_type": "code",
      "source": [
        "# Vamos a definir a p como una variable simbólica positiva\n",
        "p = sympy.symbols('p', positiva=True)\n",
        "# Definimos f\n",
        "f = p**55 * (1-p)**(100-55)\n",
        "#Derivamos f con respecto a p\n",
        "df = sympy.diff(f,p)\n",
        "# Igualamos la derivada a cero y despejamos p\n",
        "phat = sympy.solve(df,p)[1]\n",
        "phat\n",
        "\n",
        "#print(f'El estimador de máxima verosimilitud para p es: {phat}')\n",
        "print(\"El estimador de máxima verosimilitud para p es\", phat)"
      ],
      "metadata": {
        "id": "kBrCSk3F6MAS"
      },
      "execution_count": null,
      "outputs": []
    },
    {
      "cell_type": "code",
      "source": [
        "#Ejemplo 2\n",
        "\n",
        "# Simularemos una muestra de tamaño 100\n",
        "\n",
        "r = binom.rvs(n=1, p=0.7, size=100)\n",
        "r"
      ],
      "metadata": {
        "id": "vcHG-5ik6O55"
      },
      "execution_count": null,
      "outputs": []
    },
    {
      "cell_type": "code",
      "source": [
        "f = p**x * (1-p)**(1-x)\n",
        "J = np.prod([f.subs(x,i) for i in r]) # subs es de susbtituir la variable simbolica\n",
        "logJ = sympy.expand_log(sympy.log(J))\n",
        "phat = sympy.solve(sympy.diff(logJ,p),p)[0]\n",
        "print(\"El estimador de máxima verosimilitud para p es\", phat)\n",
        "# Obtenemos un valor cercano a 0.7"
      ],
      "metadata": {
        "id": "M5ZkSEcs6VAJ"
      },
      "execution_count": null,
      "outputs": []
    },
    {
      "cell_type": "markdown",
      "source": [
        "**Ejercicio:** El tiempo de retardo para pacientes con enfermedad coronaria potencial se define como la duración entre el comienzo de un síntoma agudo cardiovascular y la llegada a la unidad de emergencia.\n",
        "\n",
        "Se supone que el tiempo de retardo sigue una distribución exponencial con parámetro $\\theta $.\n",
        "\n",
        "Se registraron los tiempos de retardo (en minutos) en la clínica para los primeros 20 pacientes:\n",
        "\n",
        "$$ 525, \\ 719, \\ 2880, \\ 150, \\ 30, \\ 251, \\ 45, \\ 858, \\ 15, \\ 47, \\ 90, \\ 56, \\ 68, \\ 6, \\ 189, \\ 180, \\ 60, \\ 60, \\ 294, \\ 747 $$\n",
        "\n",
        "- Encuentra un estimador por el método de momentos para la media de la distribución.\n",
        "- Encuentra el valor del estimador con los datos dados."
      ],
      "metadata": {
        "id": "l--C3ePm6aQp"
      }
    },
    {
      "cell_type": "markdown",
      "source": [
        "**Ejercicio:** El tiempo de retardo para pacientes con enfermedad coronaria potencial se define como la duración entre el comienzo de un síntoma agudo cardiovascular y la llegada a la unidad de emergencia.\n",
        "\n",
        "Se supone que el tiempo de retardo sigue una distribución exponencial con parámetro $\\theta $.\n",
        "\n",
        "Se registraron los tiempos de retardo (en minutos) en la clínica para los primeros 20 pacientes:\n",
        "\n",
        "$$ 525, \\ 719, \\ 2880, \\ 150, \\ 30, \\ 251, \\ 45, \\ 858, \\ 15, \\ 47, \\ 90, \\ 56, \\ 68, \\ 6, \\ 189, \\ 180, \\ 60, \\ 60, \\ 294, \\ 747 $$\n",
        "\n",
        "- Encuentra un estimador por el **método de momentos** para la media de la distribución (exponencial).\n",
        "  Rocordemos que si $X\\sim Exp(\\theta)$, entonces $\\mathbb{E}[X]=\\frac{1}{\\theta}$\n",
        "- (Python) Encuentra el valor del estimador con los datos dados."
      ],
      "metadata": {
        "id": "6xXy72wK6lk4"
      }
    },
    {
      "cell_type": "markdown",
      "source": [
        "**Estimador por el **Método de Momentos** para la media de una distribución exponencial**\n",
        "\n",
        "Sea una variable aleatoria $(X)$ con distribución exponencial de parámetro $(\\theta>0)$:\n",
        "\n",
        "$$\n",
        "f(x\\mid \\theta)=\\theta e^{-\\theta x}, \\quad x\\ge 0.\n",
        "$$\n",
        "\n",
        "La esperanza teórica es:\n",
        "\n",
        "$$\n",
        "\\mathbb{E}[X] = \\int_0^\\infty x \\,\\theta e^{-\\theta x}\\,dx = \\frac{1}{\\theta}.\n",
        "$$\n",
        "\n",
        "El **primer momento muestral** para una muestra $(x_1,\\ldots,x_n$) es:\n",
        "\n",
        "$$\n",
        "m_1 = \\bar{X} = \\frac{1}{n}\\sum_{i=1}^n x_i.\n",
        "$$\n",
        "\n",
        "El método de momentos iguala momento teórico con muestral con $m_1=\\mathbb{E}[X]$\n",
        "\n",
        "$$\n",
        "\\bar{X} = \\mathbb{E}[X] = \\frac{1}{\\theta}.\n",
        "$$\n",
        "\n",
        "Despejando el parámetro:\n",
        "\n",
        "$$\n",
        "{\\hat{\\theta}_{\\mathrm{MM}} = \\frac{1}{\\bar{X}}}\n",
        "$$\n",
        "\n",
        "y, por lo tanto, un estimador para la **media** $(\\mu=\\mathbb{E}[X])$ es simplemente:\n",
        "\n",
        "$$\n",
        "{\\hat{\\mu}_{\\mathrm{MM}} = \\bar{X}.}\n",
        "$$\n"
      ],
      "metadata": {
        "id": "xdgDSEyb8EDO"
      }
    },
    {
      "cell_type": "code",
      "source": [
        "import numpy as np\n",
        "\n",
        "x = np.array([525, 719, 2880, 150, 30, 251, 45, 858, 15, 47,\n",
        "              90, 56, 68, 6, 189, 180, 60, 60, 294, 747], dtype=float)\n",
        "\n",
        "n = x.size\n",
        "S = x.sum()\n",
        "xbar = x.mean()\n",
        "theta_hat = 1.0 / xbar\n",
        "\n",
        "print(f\"n = {n}\")\n",
        "print(f\"Suma = {S:.0f}\")\n",
        "print(f\"Media muestral (mu_hat_MM) = {xbar:.4f}\")\n",
        "print(f\"theta_hat_MM (MLE también) = {theta_hat:.6f}\")"
      ],
      "metadata": {
        "id": "g1iMjxzj8IGW"
      },
      "execution_count": null,
      "outputs": []
    },
    {
      "cell_type": "markdown",
      "source": [
        "**Ejercicio (Pyton)**. Suponga que la vida util de los focos de cierta marca, se modela mediante una distribución expoencial de parametro  θ  (desconocido). Probamos 5 focos y encontramos que tienen una vida útil de  2,3,1,3  y  5  años, respectivamente. ¿Cuál es el MLE para  θ ?"
      ],
      "metadata": {
        "id": "wftu8gAh6gdI"
      }
    },
    {
      "cell_type": "code",
      "source": [
        "import numpy as np\n",
        "\n",
        "x = np.array([2,3,1,3,5])\n",
        "n = len(x)\n",
        "theta_mle = n / x.sum()\n",
        "theta_mle\n",
        "miu=1.0/theta_mle\n",
        "print(f\"theta_mle = {theta_mle:.6f}\")\n",
        "print(f\"miu = {miu:.6f}\")"
      ],
      "metadata": {
        "id": "EcXw_X1C6fdY"
      },
      "execution_count": null,
      "outputs": []
    },
    {
      "cell_type": "markdown",
      "source": [
        "## Formulario de distribuciones y estimadores\n",
        "\n",
        "A continuación se resumen algunas distribuciones frecuentes en inferencia estadística con sus parámetros y estimadores habituales.\n",
        "\n",
        "## Modelos de variables aleatorias discretas\n",
        "\n",
        "- **Bernoulli** $X \\sim \\mathrm{Ber}(p)$  \n",
        "  - Parámetro: $0 < p < 1$  \n",
        "  - EMV: $\\hat p = \\bar X$  \n",
        "  - $E[\\hat p] = p$  \n",
        "  - $\\mathrm{Var}(\\hat p) = \\dfrac{p(1-p)}{n}$  \n",
        "\n",
        "\n",
        "\n",
        "- **Binomial** $X \\sim \\mathrm{B}(m,p)$ (con $m$ conocido)  \n",
        "  - Parámetro: $0 < p < 1$  \n",
        "  - EMV: $\\hat p = \\dfrac{\\bar X}{m}$  \n",
        "  - $E[\\hat p] = p$  \n",
        "  - $\\mathrm{Var}(\\hat p) = \\dfrac{p(1-p)}{mn}$  \n",
        "\n",
        "\n",
        "\n",
        "- **Poisson** $X \\sim \\mathrm{Pois}(\\lambda)$  \n",
        "  - Parámetro: $\\lambda > 0$  \n",
        "  - EMV: $\\hat \\lambda = \\bar X$  \n",
        "  - $E[\\hat \\lambda] = \\lambda$  \n",
        "  - $\\mathrm{Var}(\\hat \\lambda) = \\dfrac{\\lambda}{n}$  \n",
        "\n",
        "\n",
        "\n",
        "## Modelos de variables aleatorias continuas\n",
        "\n",
        "- **Exponencial** $X \\sim \\mathrm{Exp}(\\lambda)$  \n",
        "  - Parámetro: $\\lambda > 0$  \n",
        "  - EMV: $\\hat \\lambda = \\dfrac{1}{\\bar X}$  \n",
        "  - $E[\\hat \\lambda] = \\dfrac{n}{n-1}\\lambda \\quad (n>1)$  \n",
        "  - $\\mathrm{Var}(\\hat \\lambda) = \\dfrac{n^2}{(n-1)^2(n-2)}\\lambda^2 \\quad (n>2)$  \n",
        "\n",
        "\n",
        "\n",
        "- **Gamma** $X \\sim \\Gamma(\\alpha, \\beta)$ (forma–tasa)  \n",
        "  - Parámetros: $\\alpha > 0, \\ \\beta > 0$  \n",
        "  - EMV:  \n",
        "    - Si $\\alpha$ conocida: $\\hat \\beta = \\dfrac{\\alpha}{\\bar X}$  \n",
        "    - Si $\\beta$ conocida: $\\hat \\alpha$ se obtiene resolviendo  \n",
        "      $\\psi(\\alpha) - \\ln(\\alpha) = \\overline{\\ln X} - \\ln \\bar X$  \n",
        "  - Ejemplo de propiedades:  \n",
        "    - $E[\\hat \\beta] = \\dfrac{n\\alpha}{n\\alpha - 1}\\beta$  \n",
        "    - $\\mathrm{Var}(\\hat \\beta) = \\dfrac{n^2 \\alpha^2}{(n\\alpha - 1)^2(n\\alpha - 2)}\\beta^2$  \n",
        "\n",
        "- **Normal con $\\sigma^2$ conocida**  \n",
        "  - Parámetro: $\\mu \\in \\mathbb{R}$  \n",
        "  - EMV: $\\hat \\mu = \\bar X$  \n",
        "  - $E[\\hat \\mu] = \\mu$  \n",
        "  - $\\mathrm{Var}(\\hat \\mu) = \\dfrac{\\sigma^2}{n}$  \n",
        "\n",
        "\n",
        "\n",
        "- **Normal con $\\mu$ conocido**  \n",
        "  - Parámetro: $\\sigma^2 > 0$  \n",
        "  - EMV: $\\hat \\sigma^2 = \\dfrac{1}{n}\\sum (X_i - \\mu)^2$  \n",
        "  - $E[\\hat \\sigma^2] = \\sigma^2$  \n",
        "  - $\\mathrm{Var}(\\hat \\sigma^2) = \\dfrac{2\\sigma^4}{n}$  \n",
        "\n",
        "\n",
        "\n",
        "- **Normal con $\\mu$ y $\\sigma^2$ desconocidos**  \n",
        "  - EMV:  \n",
        "    - $\\hat \\mu = \\bar X$  \n",
        "    - $\\hat \\sigma^2 = \\dfrac{1}{n}\\sum (X_i - \\bar X)^2$  \n",
        "  - Media de los estimadores:  \n",
        "    - $E[\\hat \\mu] = \\mu$  \n",
        "    - $E[\\hat \\sigma^2] = \\dfrac{n-1}{n}\\sigma^2$  \n",
        "  - Varianza:  \n",
        "    - $\\mathrm{Var}(\\hat \\mu) = \\dfrac{\\sigma^2}{n}$  \n",
        "    - $\\mathrm{Var}(\\hat \\sigma^2) = \\dfrac{2(n-1)\\sigma^4}{n^2}$  \n",
        "\n"
      ],
      "metadata": {
        "id": "ZFKVGsqNAMjq"
      }
    },
    {
      "cell_type": "markdown",
      "source": [
        "# Intervalos de confianza"
      ],
      "metadata": {
        "id": "1QDdSEM-nCwr"
      }
    },
    {
      "cell_type": "markdown",
      "source": [
        "Sea una muestra aleatoria\n",
        "$$\n",
        "X_1, \\ldots, X_n \\sim \\mathcal{N}(\\mu,\\sigma^2)\n",
        "$$\n",
        "\n",
        "Queremos construir un intervalo para un parámetro (por ejemplo, la media $\\mu$).\n",
        "\n",
        "---"
      ],
      "metadata": {
        "id": "qfgyxwt3RU4X"
      }
    },
    {
      "cell_type": "markdown",
      "source": [
        "### Error estándar (SE)\n",
        "\n",
        "Mide **cuánto varía** una estadística de una muestra a otra.\n",
        "\n",
        "- Si la varianza poblacional es conocida:\n",
        "$$\n",
        "SE = \\frac{\\sigma}{\\sqrt{n}}\n",
        "$$\n",
        "\n",
        "- Si la varianza poblacional es desconocida (usamos $s$, la desviación muestral):\n",
        "$$\n",
        "SE = \\frac{s}{\\sqrt{n}}\n",
        "$$\n",
        "\n",
        "> Entre mayor $n$, menor $SE$.\n",
        "\n",
        "---"
      ],
      "metadata": {
        "id": "nLfZW60VRaQu"
      }
    },
    {
      "cell_type": "markdown",
      "source": [
        "### Definición general de intervalo de confianza\n",
        "\n",
        "Sean dos estadísticos $T_1 = t_1(X_1,\\ldots,X_n)$ y $T_2 = t_2(X_1,\\ldots,X_n)$ tales que\n",
        "$$\n",
        "\\mathbb{P}\\big(T_1 \\leq \\theta \\leq T_2\\big) = \\alpha\n",
        "$$\n",
        "\n",
        "Entonces el intervalo aleatorio $(T_1, T_2)$ se llama **intervalo de confianza al $100\\alpha\\%$** para el parámetro $\\theta$.\n"
      ],
      "metadata": {
        "id": "6qZeoNsORcI2"
      }
    },
    {
      "cell_type": "markdown",
      "source": [
        "## Algunos intervalos de confianza"
      ],
      "metadata": {
        "id": "WU5MLAeXRcGy"
      }
    },
    {
      "cell_type": "markdown",
      "source": [
        "### 1. Media de una normal\n",
        "\n",
        "- **Varianza conocida**  \n",
        "$$\n",
        "IC: \\quad \\bar X \\pm z_{\\alpha/2}\\frac{\\sigma}{\\sqrt{n}}\n",
        "$$\n",
        "\n",
        "- **Varianza desconocida**  \n",
        "  - Muestras grandes ($n>30$):  \n",
        "$$\n",
        "IC: \\quad \\bar X \\pm z_{\\alpha/2}\\frac{s}{\\sqrt{n}}\n",
        "$$\n",
        "\n",
        "  - Muestras pequeñas ($n\\leq 30$):  \n",
        "$$\n",
        "IC: \\quad \\bar X \\pm t_{1-\\alpha/2,\\,n-1}\\frac{s}{\\sqrt{n}}\n",
        "$$\n",
        "\n",
        "\n"
      ],
      "metadata": {
        "id": "PtdgbD6ZRcD-"
      }
    },
    {
      "cell_type": "markdown",
      "source": [
        "### 2. Varianza de una normal\n",
        "\n",
        "$$\n",
        "IC: \\quad\n",
        "\\frac{(n-1)s^2}{\\chi^2_{1-\\alpha/2,\\,n-1}}\n",
        "\\; < \\; \\sigma^2 \\; <\n",
        "\\frac{(n-1)s^2}{\\chi^2_{\\alpha/2,\\,n-1}}\n",
        "$$\n"
      ],
      "metadata": {
        "id": "VkxGoYz_Rb2-"
      }
    },
    {
      "cell_type": "markdown",
      "source": [
        "### 3. Diferencia de medias de dos normales\n",
        "\n",
        "- **Varianzas conocidas**  \n",
        "$$\n",
        "IC: \\quad (\\bar X_1 - \\bar X_2) \\pm z_{\\alpha/2}\\sqrt{\\frac{\\sigma_1^2}{n_1}+\\frac{\\sigma_2^2}{n_2}}\n",
        "$$\n",
        "\n",
        "- **Varianzas desconocidas**  \n",
        "  - Muestras grandes y tamaños similares ($n_1+n_2>30$, $n_1\\approx n_2$):  \n",
        "$$\n",
        "IC: \\quad (\\bar X_1 - \\bar X_2) \\pm z_{\\alpha/2}\\sqrt{\\frac{s_1^2}{n_1}+\\frac{s_2^2}{n_2}}\n",
        "$$\n",
        "\n",
        "  - Muestras pequeñas, varianzas **desconocidas pero iguales**:  \n",
        "$$\n",
        "IC: \\quad (\\bar X_1 - \\bar X_2) \\pm t_{1-\\alpha/2,\\,n_1+n_2-2}\n",
        "\\,s_p\\sqrt{\\frac{1}{n_1}+\\frac{1}{n_2}}\n",
        "$$\n",
        "\n",
        "donde la varianza combinada es:\n",
        "$$\n",
        "s_p^2=\\frac{(n_1-1)s_1^2+(n_2-1)s_2^2}{n_1+n_2-2}\n",
        "$$\n",
        "\n",
        "  - Muestras pequeñas, varianzas **desconocidas y distintas (Welch)**:  \n",
        "$$\n",
        "IC: \\quad (\\bar X_1 - \\bar X_2) \\pm t_{1-\\alpha/2,\\,f}\n",
        "\\sqrt{\\frac{s_1^2}{n_1}+\\frac{s_2^2}{n_2}}\n",
        "$$\n",
        "\n",
        "con los grados de libertad aproximados por Welch:\n",
        "$$\n",
        "f = \\frac{\\left(\\frac{s_1^2}{n_1}+\\frac{s_2^2}{n_2}\\right)^2}\n",
        "{\\frac{\\big(\\frac{s_1^2}{n_1}\\big)^2}{n_1-1}+\n",
        " \\frac{\\big(\\frac{s_2^2}{n_2}\\big)^2}{n_2-1}}\n",
        "$$\n",
        "\n"
      ],
      "metadata": {
        "id": "ZE3NpkciTBzl"
      }
    },
    {
      "cell_type": "markdown",
      "source": [
        "### 4. Razón de varianzas de dos normales\n",
        "\n",
        "$$\n",
        "IC: \\quad\n",
        "\\frac{s_1^2}{s_2^2} \\cdot\n",
        "\\frac{1}{F_{1-\\alpha/2,\\,n_1-1,\\,n_2-1}}\n",
        "\\; < \\;\n",
        "\\frac{\\sigma_1^2}{\\sigma_2^2}\n",
        "\\; <\n",
        "\\frac{s_1^2}{s_2^2} \\cdot\n",
        "\\frac{1}{F_{\\alpha/2,\\,n_1-1,\\,n_2-1}}\n",
        "$$\n"
      ],
      "metadata": {
        "id": "fTQhATegTBw8"
      }
    },
    {
      "cell_type": "markdown",
      "source": [
        "### 5. Proporción binomial\n",
        "\n",
        "$$\n",
        "IC: \\quad\n",
        "\\hat p \\pm z_{\\alpha/2}\\sqrt{\\frac{\\hat p(1-\\hat p)}{n}}\n",
        "$$\n",
        "\n",
        "---\n",
        "\n"
      ],
      "metadata": {
        "id": "UO2OrpLaTBuv"
      }
    },
    {
      "cell_type": "markdown",
      "source": [
        "### 6. Diferencia de proporciones\n",
        "\n",
        "$$\n",
        "IC: \\quad\n",
        "(\\hat p_1-\\hat p_2) \\pm z_{\\alpha/2}\n",
        "\\sqrt{\\frac{\\hat p_1(1-\\hat p_1)}{n_1}+\n",
        "      \\frac{\\hat p_2(1-\\hat p_2)}{n_2}}\n",
        "$$\n"
      ],
      "metadata": {
        "id": "tXeB_lsvTBel"
      }
    },
    {
      "cell_type": "markdown",
      "source": [
        "### 7. Poisson\n",
        "\n",
        "$$\n",
        "IC: \\quad\n",
        "\\hat \\lambda \\pm z_{\\alpha/2}\\sqrt{\\frac{\\hat \\lambda}{n}}\n",
        "$$\n"
      ],
      "metadata": {
        "id": "_-BMT15wTBcE"
      }
    },
    {
      "cell_type": "markdown",
      "source": [
        "### 8. Datos apareados\n",
        "\n",
        "- **Muestras grandes ($n>30$):**  \n",
        "$$\n",
        "IC: \\quad \\bar d \\pm z_{\\alpha/2}\\frac{s_d}{\\sqrt{n}}\n",
        "$$\n",
        "\n",
        "- **Muestras pequeñas ($n\\leq 30$):**  \n",
        "$$\n",
        "IC: \\quad \\bar d \\pm t_{1-\\alpha/2,\\,n-1}\\frac{s_d}{\\sqrt{n}}\n",
        "$$\n",
        "\n",
        "donde:\n",
        "$$\n",
        "d_i = X_i - Y_i, \\quad\n",
        "\\bar d = \\frac{1}{n}\\sum_{i=1}^n d_i, \\quad\n",
        "s_d^2=\\frac{1}{n-1}\\sum_{i=1}^n(d_i-\\bar d)^2\n",
        "$$"
      ],
      "metadata": {
        "id": "EyevuP9HTBZc"
      }
    },
    {
      "cell_type": "markdown",
      "source": [],
      "metadata": {
        "id": "mwCuyqEeTBSN"
      }
    },
    {
      "cell_type": "markdown",
      "source": [
        "## Implementación"
      ],
      "metadata": {
        "id": "CVqqp6fPVRQ1"
      }
    },
    {
      "cell_type": "code",
      "execution_count": null,
      "metadata": {
        "id": "136861a8"
      },
      "outputs": [],
      "source": [
        "import numpy as np\n",
        "import matplotlib.pyplot as plt\n",
        "import scipy.stats as st"
      ]
    },
    {
      "cell_type": "markdown",
      "metadata": {
        "id": "dfb2e626"
      },
      "source": [
        "### Intervalo de Confianza para la media de una distribución normal (σ conocida)\n",
        "\n",
        "Sea $X_1, \\dots, X_n$ una m.a. $X_i \\sim \\mathcal{N}(\\mu, \\sigma^2)$. Entonces:\n",
        "\n",
        "- $\\bar{X} \\sim \\mathcal{N}(\\mu, \\frac{\\sigma^2}{n})$\n",
        "- $Z = \\frac{\\bar{X} - \\mu}{\\sigma / \\sqrt{n}} \\sim \\mathcal{N}(0,1)$\n",
        "\n",
        "Nivel de significancia (error): $\\alpha$\n",
        "\n",
        "El intervalo de confianza se basa en que:\n",
        "$$\n",
        "\\mathbb{P}\\left( -z_{\\alpha/2} < \\frac{\\bar{X} - \\mu}{\\sigma / \\sqrt{n}} < z_{\\alpha/2} \\right)\n",
        "= \\mathbb{P}\\left( \\bar{X} - z_{\\alpha/2} \\frac{\\sigma}{\\sqrt{n}} < \\mu < \\bar{X} + z_{\\alpha/2} \\frac{\\sigma}{\\sqrt{n}} \\right)\n",
        "= 1 - \\alpha\n",
        "$$\n",
        "\n",
        "El intervalo del $(1 - \\alpha) \\cdot 100\\%$ de confianza para $\\mu$ (con $\\sigma$ conocida) es:\n",
        "\n",
        "$$\n",
        "\\left( \\bar{X} - z_{\\alpha/2} \\frac{\\sigma}{\\sqrt{n}}, \\quad \\bar{X} + z_{\\alpha/2} \\frac{\\sigma}{\\sqrt{n}} \\right)\n",
        "$$\n",
        "donde\n",
        "- $\\sigma$ es la desviación estándar\n",
        "- $\\frac{\\sigma}{\\sqrt{n}}$ es el error estándar de la media\n",
        "- $z_{\\alpha/2}$ determina el nivel de confianza\n",
        "- el intervalo está centrado en $\\bar{X}$\n",
        "\n",
        "**OBS** A mayor valor de $n$ -> menor error estándar -> el intervalo de confianza es más pequeño -> lo cual hace que se acerque más a la media, es decir, que haya menos variación."
      ]
    },
    {
      "cell_type": "markdown",
      "metadata": {
        "id": "b8d73b3b"
      },
      "source": [
        "**EJEMPLO 1** Para trata de estimar la media de consumo por cliente en un restaurante, se reunieron datos de una muestra de $49$ clientes durante tres semanas.\n",
        "\n",
        "**a)** Supongamos que la **desviación estándar** de la población es de $\\$2.5$. ¿Cuál es el error estándar de la media?\n",
        "\n",
        "**b)** Con un nivel de confianza del $95\\%$, ¿cuál es el margen de error?\n",
        "\n",
        "**c)** Si la media de la muestra es de $\\$22.60$ ¿cuál es el intervalo de confianza del $95\\%$ para la media de la población?"
      ]
    },
    {
      "cell_type": "code",
      "execution_count": null,
      "metadata": {
        "id": "577f7771",
        "outputId": "988799ab-7539-497f-8b95-173a85dd87d4"
      },
      "outputs": [
        {
          "name": "stdout",
          "output_type": "stream",
          "text": [
            "Eror estándar de la media: 0.36\n",
            "Margen de error: 0.70\n",
            "Intervalo de confianza del 95.0%: (21.90, 23.30)\n"
          ]
        }
      ],
      "source": [
        "# Datos:\n",
        "n = 49\n",
        "sigma = 2.5\n",
        "media_muestral = 22.60\n",
        "confianza = 0.95\n",
        "\n",
        "# a) Error estándar de la media\n",
        "error_estandar = sigma / np.sqrt(n)\n",
        "print(f\"Eror estándar de la media: {error_estandar:.2f}\")\n",
        "\n",
        "# b) Margen de error\n",
        "# 1-confianza= 0.05 => 0.025 en cada cola -> (1-confianza)/2\n",
        "\n",
        "z = st.norm.ppf(1 - (1 - confianza) / 2) # ppf -> percentil point function\n",
        "# z_{0.975} es tal que P(Z <= z_{0.975}) = 0.975\n",
        "margen_error = z * error_estandar\n",
        "print(f\"Margen de error: {margen_error:.2f}\")\n",
        "\n",
        "# c) Intervalo de confianza\n",
        "limite_inferior = media_muestral - margen_error\n",
        "limite_superior = media_muestral + margen_error\n",
        "print(f\"Intervalo de confianza del {confianza*100}%: ({limite_inferior:.2f}, {limite_superior:.2f})\")"
      ]
    },
    {
      "cell_type": "markdown",
      "metadata": {
        "id": "d43e2107"
      },
      "source": [
        "Por lo tanto, podemos decir que con un $95\\%$ de confianza, se estima que el **consumo medio poblacional** está entre $\\$21.90$ y $\\$23.30$"
      ]
    },
    {
      "cell_type": "markdown",
      "metadata": {
        "id": "ef65d1f4"
      },
      "source": [
        "**Ejemplo 2** Supongamos que se toma una muestra aleatoria de 100 personas para estimar la media del peso de una población, y se obtiene que la media muestral es de $70$ kg con una desviación estándar que es conocida de $10$ kg. Para un nivel de confianza del $95\\%$, calcular el intervalo de confianza."
      ]
    },
    {
      "cell_type": "code",
      "execution_count": null,
      "metadata": {
        "id": "08fd2388",
        "outputId": "53fdcaef-e2b0-4d61-f0c0-054dbd284edc"
      },
      "outputs": [
        {
          "name": "stdout",
          "output_type": "stream",
          "text": [
            "Intervalo de confianza del 95.0%: (68.04, 71.96)\n"
          ]
        }
      ],
      "source": [
        "# Datos:\n",
        "n = 100\n",
        "sigma = 10\n",
        "media_muestral = 70\n",
        "confianza = 0.95\n",
        "error_estandar = sigma / np.sqrt(n)\n",
        "\n",
        "# Vamos a utilizar la función scipy.stats.norm.interval\n",
        "# Sintaxis: scipy.stats.norm.interval(confidence = confianza, loc=media_muestral, scale=error_estandar)\n",
        "\n",
        "intervalo = st.norm.interval(confianza, loc=media_muestral, scale=error_estandar)\n",
        "\n",
        "print(f\"Intervalo de confianza del {confianza*100}%: ({intervalo[0]:.2f}, {intervalo[1]:.2f})\")"
      ]
    },
    {
      "cell_type": "markdown",
      "metadata": {
        "id": "0eb674c5"
      },
      "source": [
        "### Intervalo de Confianza para la media $\\mu$ de una distribución normal ($\\sigma$ deconocida)\n",
        "\n",
        "Sea $X_1, \\dots, X_n$ una m.a. $X_i \\sim \\mathcal{N}(\\mu, \\sigma^2)$. Entonces:\n",
        "\n",
        "- $\\bar{X} \\sim \\mathcal{N}(\\mu, \\frac{\\sigma^2}{n})$\n",
        "- $Z = \\frac{\\bar{X} - \\mu}{\\sigma / \\sqrt{n}} \\sim \\mathcal{N}(0,1)$\n",
        "\n",
        "Si el tamaño de la muestra es menor a 30, se utiliza la $t$:\n",
        "Estadístico t\n",
        "\n",
        "Definimos el estadístico $t$ de la siguiente manera:\n",
        "$$T = \\frac{\\bar{X}-\\mu}{s/\\sqrt{n}} \\sim t_{(n-1)} $$\n",
        "\n",
        "El intervalo del $(1 - \\alpha) \\cdot 100\\%$ de confianza para $\\mu$ (con $\\sigma$ desconocida) es:\n",
        "\n",
        "$$\n",
        "\\left( \\bar{X} - t_{\\alpha/2} \\frac{s}{\\sqrt{n}}, \\quad \\bar{X} + t_{\\alpha/2} \\frac{s}{\\sqrt{n}} \\right)\n",
        "$$\n",
        "donde\n",
        "\n",
        "- $s$ = desviación estándar muestral\n",
        "- $\\frac{s}{\\sqrt{n}}$ = error estándar de la media  \n",
        "- $t_{\\alpha/2}$ determina el nivel de confianza  \n",
        "- El intervalo está centrado en $\\bar{X}$"
      ]
    },
    {
      "cell_type": "markdown",
      "metadata": {
        "id": "0c476534"
      },
      "source": [
        "**Ejemplo 3** Supongamos que tenemos los soguientes datos de una muestra aleatoria de 10 observaciones:\n",
        "$$ datos = [45, 55, 67, 45, 68, 79, 98, 87, 84, 82] $$\n",
        "Calcular un intervalo de confianza para la media."
      ]
    },
    {
      "cell_type": "code",
      "execution_count": null,
      "metadata": {
        "id": "83639ec0",
        "outputId": "5c48075b-531a-467c-a6fe-cd3219b730b9"
      },
      "outputs": [
        {
          "name": "stdout",
          "output_type": "stream",
          "text": [
            "La media muestral es: 71.00\n",
            "Intervalo de confianza del 95.0%: (58.00, 84.00)\n"
          ]
        }
      ],
      "source": [
        "# Datos\n",
        "datos = [45, 55, 67, 45, 68, 79, 98, 87, 84, 82]\n",
        "n = len(datos)\n",
        "confianza = 0.95\n",
        "gl = n - 1\n",
        "\n",
        "# Tenemos la media y el error estándar\n",
        "media_muestral = np.mean(datos)\n",
        "error_estandar = st.sem(datos) # std error of the mean utilizando la desviación estándar muestral\n",
        "\n",
        "# Utilizamos la distribución t de Student\n",
        "intervalo = st.t.interval(confianza, df=gl, loc=media_muestral, scale=error_estandar)\n",
        "print(f\"La media muestral es: {media_muestral:.2f}\")\n",
        "print(f\"Intervalo de confianza del {confianza*100}%: ({intervalo[0]:.2f}, {intervalo[1]:.2f})\")\n"
      ]
    },
    {
      "cell_type": "markdown",
      "metadata": {
        "id": "7f619b52"
      },
      "source": [
        "**Ejemplo 4** Los artículos de cerámica utilizados sobre velas electricas sobrecargadas se rompen con diferentes presiones. Supongamos que los datos provienen de una distribución normal.\n",
        "\n",
        "La resistencia a la ruptura fue medida en una muestra de 100 artículos, y el promedio fue de $1750$ con un desviación estándar de 315.8\n",
        "\n",
        "**a)** Estimar con un nivel del confianza del $90\\%$ a la media poblacional de la presión de la ruptura.\n",
        "\n",
        "**b)** Estimar con un nivel del confianza del $90\\%$ a la varianza poblacional."
      ]
    },
    {
      "cell_type": "markdown",
      "metadata": {
        "id": "b742c727"
      },
      "source": [
        "Estamos utilizado la formula para en b)\n",
        "\n",
        "$$ \\left(\n",
        " \\frac{(n - 1) s^2}{\\chi^2_{1 - \\alpha/2}} ,\n",
        " \\frac{(n - 1) s^2}{\\chi^2_{\\alpha/2}}\n",
        "\\right) $$"
      ]
    },
    {
      "cell_type": "code",
      "execution_count": null,
      "metadata": {
        "id": "372c593a",
        "outputId": "20b2a5be-4da9-4a40-e0b4-fde947ab68a2"
      },
      "outputs": [
        {
          "name": "stdout",
          "output_type": "stream",
          "text": [
            "Intervalo de confianza para la media del 90.0%: (1698.06, 1801.94)\n",
            "Intervalo de confianza para la varianza del 90.0%: (80123.49, 128146.72)\n",
            "Intervalo de confianza para la varianza del 90.0%: (80123.49, 128146.72)\n"
          ]
        }
      ],
      "source": [
        "from scipy.stats import chi2\n",
        "#Datos:\n",
        "n = 100\n",
        "media_muestral = 1750\n",
        "desviacion_muestral = 315.8 # varianza muestral = 99,729.64\n",
        "confianza = 0.90\n",
        "\n",
        "# a) Se tiene que n>30, por lo que usamos la normal\n",
        "error_estandar = desviacion_muestral / np.sqrt(n)\n",
        "intervalo_media = st.norm.interval(confianza, loc=media_muestral, scale=error_estandar)\n",
        "print(f\"Intervalo de confianza para la media del {confianza*100}%: ({intervalo_media[0]:.2f}, {intervalo_media[1]:.2f})\")\n",
        "\n",
        "# b) Intervalo de confianza para la varianza\n",
        "gl = n - 1\n",
        "alpha = 1 - confianza\n",
        "s2 = desviacion_muestral**2\n",
        "\n",
        "# Vamos a calcular los cuantiles de la distribución chi-cuadrado\n",
        "chi2_inf = st.chi2.ppf(alpha / 2, df=gl)\n",
        "chi2_sup = st.chi2.ppf(1 - alpha / 2, df=gl)\n",
        "intervalo_varianza = ((gl * s2) / chi2_sup, (gl * s2) / chi2_inf)\n",
        "print(f\"Intervalo de confianza para la varianza del {confianza*100}%: ({intervalo_varianza[0]:.2f}, {intervalo_varianza[1]:.2f})\")\n",
        "\n",
        "# Otra forma de calcular el intervalo de confianza para la varianza\n",
        "chi2_inf, chi2_sup = chi2.interval(confianza, df=gl)\n",
        "intervalo_varianza2 = ((gl * s2) / chi2_sup, (gl * s2) / chi2_inf)\n",
        "print(f\"Intervalo de confianza para la varianza del {confianza*100}%: ({intervalo_varianza2[0]:.2f}, {intervalo_varianza2[1]:.2f})\")\n"
      ]
    },
    {
      "cell_type": "markdown",
      "source": [
        "# Distribuciones Muestrales\n",
        "\n",
        "En inferencia estadística no solo trabajamos con **datos individuales**, sino también con **estadísticos** (funciones de la muestra) como la media, la varianza o la proporción.  \n",
        "Para poder construir intervalos de confianza y realizar contrastes de hipótesis, necesitamos conocer cómo se comportan estos estadísticos bajo un muestreo aleatorio: a esto se le llama **distribución muestral**.\n",
        "\n",
        "### Concepto\n",
        "\n",
        "Sea una población con distribución $F_\\theta$ y parámetro(s) desconocido(s) $\\theta$.  \n",
        "Tomamos una muestra aleatoria de tamaño $n$:\n",
        "$$\n",
        "X_1, X_2, \\dots, X_n \\overset{iid}{\\sim} F_\\theta.\n",
        "$$\n",
        "\n",
        "Definimos un **estadístico** como una función de la muestra:\n",
        "$$\n",
        "T = T(X_1,\\dots,X_n).\n",
        "$$\n",
        "\n",
        "La **distribución muestral de $T$** es la distribución de probabilidad que describe los posibles valores que puede tomar $T$ cuando repetimos el muestreo muchas veces bajo las mismas condiciones.\n",
        "\n",
        "\n",
        "### Consideraciones\n",
        "\n",
        "- Permite **calcular la variabilidad** de un estimador.\n",
        "- Es la base para definir el **error estándar (SE)**:\n",
        "  $$\n",
        "  SE(T) = \\sqrt{\\mathrm{Var}(T)}.\n",
        "  $$\n",
        "- Nos permite construir **intervalos de confianza** y realizar **pruebas de hipótesis**.\n",
        "\n"
      ],
      "metadata": {
        "id": "v91LjK14aPNF"
      }
    },
    {
      "cell_type": "markdown",
      "source": [
        "## Distribucón Ji-Cuadrada (Chi-Cuadrada)\n",
        "\n",
        " - Si $X\\sim N(0,1)$\n",
        " - $X^2 \\sim \\chi^{2}(1)$\n",
        "\n",
        " y si\n",
        "\n",
        " $$ \\sum_{i=1}^n X_{i}^{2} \\sim \\chi^{2}(n) $$\n",
        "\n",
        " donde $X_{i}$ son v.a.i. con distribución normal"
      ],
      "metadata": {
        "id": "H7d1NQ4eauac"
      }
    },
    {
      "cell_type": "code",
      "source": [],
      "metadata": {
        "id": "7HmBuVyPaShc"
      },
      "execution_count": null,
      "outputs": []
    },
    {
      "cell_type": "code",
      "execution_count": null,
      "metadata": {
        "id": "30cf3f2d",
        "outputId": "63500fbe-7232-44fb-9fc9-eee742655b6c"
      },
      "outputs": [
        {
          "data": {
            "image/png": "[encoded data removed]",
            "text/plain": [
              "<Figure size 1000x500 with 1 Axes>"
            ]
          },
          "metadata": {},
          "output_type": "display_data"
        }
      ],
      "source": [
        "import numpy as np\n",
        "import matplotlib.pyplot as plt\n",
        "from scipy.stats import chi2\n",
        "\n",
        "# Damos un rango de valores para las graficas\n",
        "x_chi = np.linspace(0, 20, 500)\n",
        "\n",
        "# Gráfica de la distribución Chi-cuadrado con diferentes grados de libertad\n",
        "plt.figure(figsize=(10, 5))\n",
        "\n",
        "df_chi_list = [1, 3, 6, 10] # Grados de libertad\n",
        "for df in df_chi_list:\n",
        "    plt.plot(x_chi, chi2.pdf(x_chi, df), label=f'Chi-cuadrado (df={df})')\n",
        "plt.title('Distribución Chi-cuadrado')\n",
        "plt.xlabel('x') # Etiqueta del eje x\n",
        "plt.ylabel('Densidad de probabilidad') # Etiqueta del eje y\n",
        "plt.legend()\n",
        "plt.grid()\n",
        "plt.show()"
      ]
    },
    {
      "cell_type": "markdown",
      "metadata": {
        "id": "7577a3d4"
      },
      "source": [
        "## Distribución $t$ de Student\n",
        "\n",
        "Sean\n",
        "- $X\\sim N(0,1)$\n",
        "- $Y \\sim \\chi^2(n-1)$\n",
        "Entonces\n",
        "$$ T = \\frac{X\\cdot \\sqrt{n}}{\\sqrt{\\frac{Y}{n-1}}} \\sim t(n-1)$$\n",
        "\n",
        "Podemos decir que\n",
        "\n",
        "$$ \\lim_{n\\to\\infty}t(n) = N(0,1) $$"
      ]
    },
    {
      "cell_type": "code",
      "execution_count": null,
      "metadata": {
        "id": "a13f5375",
        "outputId": "1c45dc78-c858-4450-a06c-216df387b39f"
      },
      "outputs": [
        {
          "data": {
            "image/png": "[encoded data removed]",
            "text/plain": [
              "<Figure size 1000x500 with 1 Axes>"
            ]
          },
          "metadata": {},
          "output_type": "display_data"
        }
      ],
      "source": [
        "import numpy as np\n",
        "import matplotlib.pyplot as plt\n",
        "from scipy.stats import t, norm\n",
        "\n",
        "# Damos un rango de valores para las graficas\n",
        "x = np.linspace(-5, 5, 500)\n",
        "\n",
        "dfs = [1,3,10,30]\n",
        "colors = ['blue', 'orange', 'green', 'red']\n",
        "\n",
        "plt.figure(figsize=(10, 5))\n",
        "\n",
        "# Graficamos las distribuciones t de Student\n",
        "for df, color in zip(dfs, colors): # asignar un color diferente a cada df\n",
        "    plt.plot(x, t.pdf(x, df), label=f't (df={df})', color=color)\n",
        "\n",
        "# Graficamos la distribución normal estándar\n",
        "plt.plot(x, norm.pdf(x), 'k--', label='Normal estándar')\n",
        "\n",
        "plt.title('Comparación entre la distribución t y la normal estándar')\n",
        "plt.xlabel('x') # Etiqueta del eje x\n",
        "plt.ylabel('Densidad de probabilidad')\n",
        "plt.legend()\n",
        "plt.grid()\n",
        "plt.show()\n"
      ]
    },
    {
      "cell_type": "markdown",
      "metadata": {
        "id": "26dbbde7"
      },
      "source": [
        "## Distribución F de Fisher\n",
        "\n",
        "Se aplica al caso en el que tenemos dos muestras aleatorias:\n",
        "\n",
        "$$ F = \\frac{\\chi^{2}_{(m-1)}/(m-1)}{\\chi^{2}_{(n-1)}/(n-1)} \\sim F(m-1,n-1)$$"
      ]
    },
    {
      "cell_type": "code",
      "execution_count": null,
      "metadata": {
        "id": "a8c3cda4",
        "outputId": "20aac9ba-fcc3-458e-cda4-2a0614f40ab8"
      },
      "outputs": [
        {
          "data": {
            "image/png": "[encoded data removed]",
            "text/plain": [
              "<Figure size 1000x500 with 1 Axes>"
            ]
          },
          "metadata": {},
          "output_type": "display_data"
        }
      ],
      "source": [
        "import numpy as np\n",
        "import matplotlib.pyplot as plt\n",
        "from scipy.stats import f\n",
        "\n",
        "# Definimos un rango de valores\n",
        "x = np.linspace(0, 5, 500)\n",
        "\n",
        "# Lista de grados de libertad\n",
        "df_lista = [(1,2),(2,5),(5,10),(10,20)] # (df1, df2)\n",
        "\n",
        "plt.figure(figsize=(10, 5))\n",
        "\n",
        "# Graficamos las distribuciones F de Fisher\n",
        "for d1, d2 in df_lista:\n",
        "    plt.plot(x, f.pdf(x, d1, d2), label=f'F (df1={d1}, df2={d2})')\n",
        "\n",
        "plt.title('Distribución F de Fisher')\n",
        "plt.xlabel('x')\n",
        "plt.ylabel('Densidad')\n",
        "plt.legend()\n",
        "plt.grid()\n",
        "plt.show()"
      ]
    },
    {
      "cell_type": "markdown",
      "source": [
        "## Conclusiones generales\n",
        "\n",
        "La **estadística inferencial** proporciona el puente entre los datos muestrales y el conocimiento sobre una población completa.  \n",
        "A través del estudio de los **estimadores** y sus propiedades —inesgadez, consistencia y eficiencia— se establece un marco para construir métodos que no solo calculen valores puntuales, sino que también garanticen calidad y confiabilidad en sus resultados.\n",
        "\n",
        "- El **método de momentos** ofrece una forma sencilla e intuitiva de obtener estimadores a partir de características básicas de la distribución (momentos muestrales).  \n",
        "- El enfoque de **máxima verosimilitud (EMV)** es más general y suele producir estimadores con buenas propiedades asintóticas (consistencia, eficiencia).  \n",
        "- Evaluar propiedades como **inesgadez** y **varianza mínima** permite seleccionar el mejor estimador para un problema específico.\n",
        "\n",
        "Por otro lado, los **intervalos de confianza** complementan la estimación puntual al proporcionar un rango de valores plausibles para el parámetro desconocido, junto con un nivel de confianza explícito.  \n",
        "Esto permite comunicar no solo un valor estimado, sino también la **incertidumbre asociada** y el grado de certeza con el que se respalda la inferencia.\n",
        "\n",
        "\n",
        "Comprender cómo se construyen y evalúan los estimadores, así como interpretar correctamente los intervalos de confianza, es esencial para aplicar la estadística inferencial de manera rigurosa en problemas reales de análisis de datos, ciencia e ingeniería.\n"
      ],
      "metadata": {
        "id": "cwoDWloZZXHF"
      }
    }
  ]
}